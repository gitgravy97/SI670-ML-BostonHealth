{
  "nbformat": 4,
  "nbformat_minor": 0,
  "metadata": {
    "kernelspec": {
      "display_name": "Python 3",
      "language": "python",
      "name": "python3"
    },
    "language_info": {
      "codemirror_mode": {
        "name": "ipython",
        "version": 3
      },
      "file_extension": ".py",
      "mimetype": "text/x-python",
      "name": "python",
      "nbconvert_exporter": "python",
      "pygments_lexer": "ipython3",
      "version": "3.8.5"
    },
    "colab": {
      "name": "initial_clean.ipynb",
      "provenance": [],
      "collapsed_sections": []
    }
  },
  "cells": [
    {
      "cell_type": "markdown",
      "metadata": {
        "id": "fc38Fr3-_iQY"
      },
      "source": [
        "# SI670 Project: Boston Health Inspections\n",
        "## Part 1: Data Cleaning and Feature Extraction"
      ]
    },
    {
      "cell_type": "markdown",
      "metadata": {
        "id": "JaFjAwAP_iQZ"
      },
      "source": [
        "### Action Plan\n",
        "- Get the relevant data (permits and inspections data for Boston)\n",
        "    - https://data.boston.gov/dataset/food-establishment-inspections\n",
        "    - https://data.boston.gov/dataset/approved-building-permits\n",
        "- Merge the datasets based on PK --> property_id\n",
        "- Data Cleaning: removing redundant/irrelevant features, adapt data types for our classification task. Removing temporal data (out of scope), \n",
        "- Feature Extraction: encoding, scaling, labeling features to expand dimensionality (categorical data encoding, numerical data scaling)      \n",
        "\n",
        "- GOAL: build a binary classifier that determines whether a given inspection passed/failed."
      ]
    },
    {
      "cell_type": "code",
      "metadata": {
        "id": "o3D8PEfm_iQZ"
      },
      "source": [
        "import pandas as pd\n",
        "import numpy as np\n",
        "from sklearn.preprocessing import RobustScaler, LabelEncoder\n",
        "\n",
        "import matplotlib.pyplot as plt\n",
        "\n",
        "%matplotlib inline"
      ],
      "execution_count": null,
      "outputs": []
    },
    {
      "cell_type": "code",
      "metadata": {
        "id": "XJTF8rRb_iQZ",
        "outputId": "f90b45c0-3ee8-4719-f9e8-25a4373679fe"
      },
      "source": [
        "## Reading in inspections data df (626105, 26)\n",
        "inspections = pd.read_csv(\"data/inspections.csv\")\n",
        "inspections.shape"
      ],
      "execution_count": null,
      "outputs": [
        {
          "output_type": "stream",
          "text": [
            "/opt/anaconda3/envs/670proj/lib/python3.8/site-packages/IPython/core/interactiveshell.py:3145: DtypeWarning: Columns (1,23) have mixed types.Specify dtype option on import or set low_memory=False.\n",
            "  has_raised = await self.run_ast_nodes(code_ast.body, cell_name,\n"
          ],
          "name": "stderr"
        },
        {
          "output_type": "execute_result",
          "data": {
            "text/plain": [
              "(626105, 26)"
            ]
          },
          "metadata": {
            "tags": []
          },
          "execution_count": 2
        }
      ]
    },
    {
      "cell_type": "code",
      "metadata": {
        "id": "HJa_HXB__iQa",
        "outputId": "4b72a717-d436-4498-e71a-d9809b7d849b"
      },
      "source": [
        "## Reading inpermits data df (481196, 22)\n",
        "permits = pd.read_csv(\"data/building_permits.csv\")\n",
        "permits.shape"
      ],
      "execution_count": null,
      "outputs": [
        {
          "output_type": "execute_result",
          "data": {
            "text/plain": [
              "(481196, 22)"
            ]
          },
          "metadata": {
            "tags": []
          },
          "execution_count": 3
        }
      ]
    },
    {
      "cell_type": "markdown",
      "metadata": {
        "id": "RTShaeyD_iQa"
      },
      "source": [
        "### Current Inspections Features"
      ]
    },
    {
      "cell_type": "code",
      "metadata": {
        "id": "rqKCzTLZ_iQa",
        "outputId": "6de0af8b-7008-4dde-c0f4-7754d7952f9f"
      },
      "source": [
        "inspections.columns"
      ],
      "execution_count": null,
      "outputs": [
        {
          "output_type": "execute_result",
          "data": {
            "text/plain": [
              "Index(['businessname', 'dbaname', 'legalowner', 'namelast', 'namefirst',\n",
              "       'licenseno', 'issdttm', 'expdttm', 'licstatus', 'licensecat',\n",
              "       'descript', 'result', 'resultdttm', 'violation', 'viollevel',\n",
              "       'violdesc', 'violdttm', 'violstatus', 'statusdate', 'comments',\n",
              "       'address', 'city', 'state', 'zip', 'property_id', 'location'],\n",
              "      dtype='object')"
            ]
          },
          "metadata": {
            "tags": []
          },
          "execution_count": 4
        }
      ]
    },
    {
      "cell_type": "markdown",
      "metadata": {
        "id": "ztjf9FG5_iQa"
      },
      "source": [
        "#### Feature Extraction Ideas for Inspections Data\n",
        "- Drop: business name, dbaname, legal owner, namelast, namefirst, issdttm, expdttm, resultdttm, comments, violation codes, violation level, violation description, violation status, address, city, state, latitude/longitude\n",
        "- Encode: licensecat, result (binary target variable), zip code, \n",
        "- Primary key: property ID."
      ]
    },
    {
      "cell_type": "code",
      "metadata": {
        "id": "kjc4evyN_iQa",
        "outputId": "53ed37d0-f5f5-486c-d789-b4dd36a9649e"
      },
      "source": [
        "inspections.dtypes"
      ],
      "execution_count": null,
      "outputs": [
        {
          "output_type": "execute_result",
          "data": {
            "text/plain": [
              "businessname     object\n",
              "dbaname          object\n",
              "legalowner       object\n",
              "namelast         object\n",
              "namefirst        object\n",
              "licenseno         int64\n",
              "issdttm          object\n",
              "expdttm          object\n",
              "licstatus        object\n",
              "licensecat       object\n",
              "descript         object\n",
              "result           object\n",
              "resultdttm       object\n",
              "violation        object\n",
              "viollevel        object\n",
              "violdesc         object\n",
              "violdttm         object\n",
              "violstatus       object\n",
              "statusdate       object\n",
              "comments         object\n",
              "address          object\n",
              "city             object\n",
              "state            object\n",
              "zip              object\n",
              "property_id     float64\n",
              "location         object\n",
              "dtype: object"
            ]
          },
          "metadata": {
            "tags": []
          },
          "execution_count": 5
        }
      ]
    },
    {
      "cell_type": "markdown",
      "metadata": {
        "id": "jhULUv8l_iQb"
      },
      "source": [
        "#### Cleaning Up Inspection Data"
      ]
    },
    {
      "cell_type": "code",
      "metadata": {
        "id": "5-BDdjT5_iQb"
      },
      "source": [
        "## also dropping business name since it could be PII\n",
        "cols_to_drop = [\"dbaname\", \"legalowner\", \"namelast\", \"namefirst\", \"issdttm\", \"expdttm\", \"resultdttm\", \n",
        "                \"comments\", \"address\", \"location\", \"businessname\"]\n",
        "\n",
        "clean_inspections = inspections.drop(cols_to_drop, axis=1)"
      ],
      "execution_count": null,
      "outputs": []
    },
    {
      "cell_type": "code",
      "metadata": {
        "id": "ppw_BZ3B_iQb",
        "outputId": "dc73f134-fc02-41f3-8f44-6dcacd505d7d"
      },
      "source": [
        "## with initial dropped columns, we have 15 total columns\n",
        "clean_inspections.shape"
      ],
      "execution_count": null,
      "outputs": [
        {
          "output_type": "execute_result",
          "data": {
            "text/plain": [
              "(626105, 15)"
            ]
          },
          "metadata": {
            "tags": []
          },
          "execution_count": 7
        }
      ]
    },
    {
      "cell_type": "code",
      "metadata": {
        "id": "jsE6nOMd_iQb",
        "outputId": "216b1f82-762f-4773-b804-bb5072914479"
      },
      "source": [
        "## there are some where property_id is NaN, so we gotta drop these (reduce the data) -- SHAPE INDICATED\n",
        "clean_inspections = clean_inspections[~clean_inspections.property_id.isna()]\n",
        "\n",
        "## also gotta change property_id to int type\n",
        "clean_inspections.property_id = clean_inspections.property_id.astype(\"int32\")\n",
        "\n",
        "clean_inspections.shape"
      ],
      "execution_count": null,
      "outputs": [
        {
          "output_type": "execute_result",
          "data": {
            "text/plain": [
              "(491335, 15)"
            ]
          },
          "metadata": {
            "tags": []
          },
          "execution_count": 8
        }
      ]
    },
    {
      "cell_type": "code",
      "metadata": {
        "id": "4flMJQnZ_iQb",
        "outputId": "6b5bb90e-3d35-48a2-c867-642cf06f0879"
      },
      "source": [
        "## filtering only ones that PASSED or FAILED an inspection (for binary classifier)\n",
        "clean_inspections = clean_inspections[(clean_inspections.result == \"HE_Pass\") | (clean_inspections.result == \"HE_Fail\")]\n",
        "clean_inspections.shape"
      ],
      "execution_count": null,
      "outputs": [
        {
          "output_type": "execute_result",
          "data": {
            "text/plain": [
              "(364904, 15)"
            ]
          },
          "metadata": {
            "tags": []
          },
          "execution_count": 9
        }
      ]
    },
    {
      "cell_type": "code",
      "metadata": {
        "id": "ZwILGlGG_iQb",
        "outputId": "a4ca43b8-f961-4702-87de-d9f322b59264"
      },
      "source": [
        "clean_inspections.sample(2)"
      ],
      "execution_count": null,
      "outputs": [
        {
          "output_type": "execute_result",
          "data": {
            "text/html": [
              "<div>\n",
              "<style scoped>\n",
              "    .dataframe tbody tr th:only-of-type {\n",
              "        vertical-align: middle;\n",
              "    }\n",
              "\n",
              "    .dataframe tbody tr th {\n",
              "        vertical-align: top;\n",
              "    }\n",
              "\n",
              "    .dataframe thead th {\n",
              "        text-align: right;\n",
              "    }\n",
              "</style>\n",
              "<table border=\"1\" class=\"dataframe\">\n",
              "  <thead>\n",
              "    <tr style=\"text-align: right;\">\n",
              "      <th></th>\n",
              "      <th>licenseno</th>\n",
              "      <th>licstatus</th>\n",
              "      <th>licensecat</th>\n",
              "      <th>descript</th>\n",
              "      <th>result</th>\n",
              "      <th>violation</th>\n",
              "      <th>viollevel</th>\n",
              "      <th>violdesc</th>\n",
              "      <th>violdttm</th>\n",
              "      <th>violstatus</th>\n",
              "      <th>statusdate</th>\n",
              "      <th>city</th>\n",
              "      <th>state</th>\n",
              "      <th>zip</th>\n",
              "      <th>property_id</th>\n",
              "    </tr>\n",
              "  </thead>\n",
              "  <tbody>\n",
              "    <tr>\n",
              "      <th>603172</th>\n",
              "      <td>22543</td>\n",
              "      <td>Inactive</td>\n",
              "      <td>RF</td>\n",
              "      <td>Retail Food</td>\n",
              "      <td>HE_Pass</td>\n",
              "      <td>08-3-305-307.11</td>\n",
              "      <td>*</td>\n",
              "      <td>Food Protection</td>\n",
              "      <td>2010-04-07 10:53:54</td>\n",
              "      <td>Pass</td>\n",
              "      <td>2010-04-08 08:24:20</td>\n",
              "      <td>Dorchester</td>\n",
              "      <td>MA</td>\n",
              "      <td>02121</td>\n",
              "      <td>17643</td>\n",
              "    </tr>\n",
              "    <tr>\n",
              "      <th>407533</th>\n",
              "      <td>117274</td>\n",
              "      <td>Active</td>\n",
              "      <td>FT</td>\n",
              "      <td>Eating &amp; Drinking w/ Take Out</td>\n",
              "      <td>HE_Pass</td>\n",
              "      <td>37-6-201.11</td>\n",
              "      <td>*</td>\n",
              "      <td>Walls/Ceilings Designed Constructed Installed</td>\n",
              "      <td>2017-09-05 11:33:50</td>\n",
              "      <td>Pass</td>\n",
              "      <td>2017-09-06 08:40:33</td>\n",
              "      <td>Boston</td>\n",
              "      <td>MA</td>\n",
              "      <td>2108</td>\n",
              "      <td>170408</td>\n",
              "    </tr>\n",
              "  </tbody>\n",
              "</table>\n",
              "</div>"
            ],
            "text/plain": [
              "        licenseno licstatus licensecat                       descript  \\\n",
              "603172      22543  Inactive         RF                    Retail Food   \n",
              "407533     117274    Active         FT  Eating & Drinking w/ Take Out   \n",
              "\n",
              "         result        violation viollevel  \\\n",
              "603172  HE_Pass  08-3-305-307.11         *   \n",
              "407533  HE_Pass      37-6-201.11         *   \n",
              "\n",
              "                                             violdesc             violdttm  \\\n",
              "603172                                Food Protection  2010-04-07 10:53:54   \n",
              "407533  Walls/Ceilings Designed Constructed Installed  2017-09-05 11:33:50   \n",
              "\n",
              "       violstatus           statusdate        city state    zip  property_id  \n",
              "603172       Pass  2010-04-08 08:24:20  Dorchester    MA  02121        17643  \n",
              "407533       Pass  2017-09-06 08:40:33      Boston    MA   2108       170408  "
            ]
          },
          "metadata": {
            "tags": []
          },
          "execution_count": 12
        }
      ]
    },
    {
      "cell_type": "markdown",
      "metadata": {
        "id": "BQhAhfMG_iQb"
      },
      "source": [
        "### Current Building Permits Features"
      ]
    },
    {
      "cell_type": "code",
      "metadata": {
        "id": "LkWk7-Xd_iQb",
        "outputId": "63bb4687-82e4-425e-c9c2-1eb3d7716c1f"
      },
      "source": [
        "permits.columns"
      ],
      "execution_count": null,
      "outputs": [
        {
          "output_type": "execute_result",
          "data": {
            "text/plain": [
              "Index(['permitnumber', 'worktype', 'permittypedescr', 'description',\n",
              "       'comments', 'applicant', 'declared_valuation', 'total_fees',\n",
              "       'issued_date', 'expiration_date', 'status', 'owner', 'occupancytype',\n",
              "       'sq_feet', 'address', 'city', 'state', 'zip', 'property_id',\n",
              "       'parcel_id', 'lat', 'long'],\n",
              "      dtype='object')"
            ]
          },
          "metadata": {
            "tags": []
          },
          "execution_count": 13
        }
      ]
    },
    {
      "cell_type": "markdown",
      "metadata": {
        "id": "gqmkwXVA_iQb"
      },
      "source": [
        "#### Feature Extraction Ideas for Permits Data\n",
        "- Drop: worktype, permittypedescr, description, comments, applicant, occupancy type (all food establishments), owner, address, city, state, zip (redundant), parcel_id, lat/long\n",
        "- Encode: permit status, \n",
        "- Scale: square footage, total fees, declared valuation\n",
        "- property_id is the primary key (to merge)"
      ]
    },
    {
      "cell_type": "code",
      "metadata": {
        "id": "EVP0kiMD_iQb",
        "outputId": "537788ef-5b9e-4100-9aac-91a445be02b6"
      },
      "source": [
        "permits.dtypes"
      ],
      "execution_count": null,
      "outputs": [
        {
          "output_type": "execute_result",
          "data": {
            "text/plain": [
              "permitnumber           object\n",
              "worktype               object\n",
              "permittypedescr        object\n",
              "description            object\n",
              "comments               object\n",
              "applicant              object\n",
              "declared_valuation    float64\n",
              "total_fees            float64\n",
              "issued_date            object\n",
              "expiration_date        object\n",
              "status                 object\n",
              "owner                  object\n",
              "occupancytype          object\n",
              "sq_feet               float64\n",
              "address                object\n",
              "city                   object\n",
              "state                  object\n",
              "zip                    object\n",
              "property_id            object\n",
              "parcel_id              object\n",
              "lat                   float64\n",
              "long                  float64\n",
              "dtype: object"
            ]
          },
          "metadata": {
            "tags": []
          },
          "execution_count": 17
        }
      ]
    },
    {
      "cell_type": "markdown",
      "metadata": {
        "id": "L0ZOPIRl_iQb"
      },
      "source": [
        "#### Cleaning Up Permits Data"
      ]
    },
    {
      "cell_type": "code",
      "metadata": {
        "id": "0nKcNtgK_iQb"
      },
      "source": [
        "## cols to drop in permits data, at least initially\n",
        "drop_these = [\"worktype\", \"permittypedescr\", \"description\", \"comments\", \"applicant\", \"owner\", \"address\", \"city\", \"state\", \"zip\", \"parcel_id\", \"lat\", \"long\"] \n",
        "clean_permits = permits.drop(drop_these, axis=1)"
      ],
      "execution_count": null,
      "outputs": []
    },
    {
      "cell_type": "code",
      "metadata": {
        "id": "UlCfok-S_iQb",
        "outputId": "528167dd-0f60-4812-e8d0-a53f17201c6b"
      },
      "source": [
        "clean_permits.shape"
      ],
      "execution_count": null,
      "outputs": [
        {
          "output_type": "execute_result",
          "data": {
            "text/plain": [
              "(481196, 9)"
            ]
          },
          "metadata": {
            "tags": []
          },
          "execution_count": 19
        }
      ]
    },
    {
      "cell_type": "code",
      "metadata": {
        "id": "bhgsdKK9_iQb",
        "outputId": "bae8b20d-8af4-4424-82d4-2cf92c433ff0"
      },
      "source": [
        "## again, property_id's could be NaN, so reduce these by filtering\n",
        "clean_permits = clean_permits[~clean_permits.property_id.isna()]\n",
        "clean_permits = clean_permits[clean_permits.property_id != \" \"]\n",
        "\n",
        "## gotta change dtype of property id from object to int --> GONNA HAVE TO DO A BUNCH OF DTYPE CONVERSIONS LATER\n",
        "clean_permits.property_id = clean_permits.property_id.astype(\"int32\")\n",
        "\n",
        "clean_permits.shape"
      ],
      "execution_count": null,
      "outputs": [
        {
          "output_type": "execute_result",
          "data": {
            "text/plain": [
              "(472248, 9)"
            ]
          },
          "metadata": {
            "tags": []
          },
          "execution_count": 20
        }
      ]
    },
    {
      "cell_type": "code",
      "metadata": {
        "id": "H3qYj4ER_iQb",
        "outputId": "58c1584f-ab29-4527-ace0-d58f69fe8efd"
      },
      "source": [
        "clean_permits"
      ],
      "execution_count": null,
      "outputs": [
        {
          "output_type": "execute_result",
          "data": {
            "text/html": [
              "<div>\n",
              "<style scoped>\n",
              "    .dataframe tbody tr th:only-of-type {\n",
              "        vertical-align: middle;\n",
              "    }\n",
              "\n",
              "    .dataframe tbody tr th {\n",
              "        vertical-align: top;\n",
              "    }\n",
              "\n",
              "    .dataframe thead th {\n",
              "        text-align: right;\n",
              "    }\n",
              "</style>\n",
              "<table border=\"1\" class=\"dataframe\">\n",
              "  <thead>\n",
              "    <tr style=\"text-align: right;\">\n",
              "      <th></th>\n",
              "      <th>permitnumber</th>\n",
              "      <th>declared_valuation</th>\n",
              "      <th>total_fees</th>\n",
              "      <th>issued_date</th>\n",
              "      <th>expiration_date</th>\n",
              "      <th>status</th>\n",
              "      <th>occupancytype</th>\n",
              "      <th>sq_feet</th>\n",
              "      <th>property_id</th>\n",
              "    </tr>\n",
              "  </thead>\n",
              "  <tbody>\n",
              "    <tr>\n",
              "      <th>0</th>\n",
              "      <td>A100071</td>\n",
              "      <td>40000.00</td>\n",
              "      <td>429.0</td>\n",
              "      <td>2011-11-04 11:04:58</td>\n",
              "      <td>2012-05-04 00:00:00</td>\n",
              "      <td>Open</td>\n",
              "      <td>Comm</td>\n",
              "      <td>170.0</td>\n",
              "      <td>17268</td>\n",
              "    </tr>\n",
              "    <tr>\n",
              "      <th>1</th>\n",
              "      <td>A1001012</td>\n",
              "      <td>5000.00</td>\n",
              "      <td>70.0</td>\n",
              "      <td>2020-06-01 14:08:47</td>\n",
              "      <td>2020-12-01 00:00:00</td>\n",
              "      <td>Open</td>\n",
              "      <td>1-3FAM</td>\n",
              "      <td>0.0</td>\n",
              "      <td>113443</td>\n",
              "    </tr>\n",
              "    <tr>\n",
              "      <th>2</th>\n",
              "      <td>A1001201</td>\n",
              "      <td>74295.75</td>\n",
              "      <td>803.0</td>\n",
              "      <td>2019-11-13 13:38:56</td>\n",
              "      <td>2020-05-13 00:00:00</td>\n",
              "      <td>Open</td>\n",
              "      <td>Multi</td>\n",
              "      <td>0.0</td>\n",
              "      <td>129994</td>\n",
              "    </tr>\n",
              "    <tr>\n",
              "      <th>3</th>\n",
              "      <td>A100137</td>\n",
              "      <td>15000.00</td>\n",
              "      <td>206.0</td>\n",
              "      <td>2013-01-03 14:13:09</td>\n",
              "      <td>2013-07-03 00:00:00</td>\n",
              "      <td>Open</td>\n",
              "      <td>1-2FAM</td>\n",
              "      <td>0.0</td>\n",
              "      <td>149852</td>\n",
              "    </tr>\n",
              "    <tr>\n",
              "      <th>4</th>\n",
              "      <td>A1001913</td>\n",
              "      <td>1.00</td>\n",
              "      <td>33.0</td>\n",
              "      <td>2019-10-18 09:21:00</td>\n",
              "      <td>2020-04-18 00:00:00</td>\n",
              "      <td>Open</td>\n",
              "      <td>Comm</td>\n",
              "      <td>0.0</td>\n",
              "      <td>20073</td>\n",
              "    </tr>\n",
              "    <tr>\n",
              "      <th>...</th>\n",
              "      <td>...</td>\n",
              "      <td>...</td>\n",
              "      <td>...</td>\n",
              "      <td>...</td>\n",
              "      <td>...</td>\n",
              "      <td>...</td>\n",
              "      <td>...</td>\n",
              "      <td>...</td>\n",
              "      <td>...</td>\n",
              "    </tr>\n",
              "    <tr>\n",
              "      <th>481191</th>\n",
              "      <td>U49993435</td>\n",
              "      <td>0.00</td>\n",
              "      <td>50.0</td>\n",
              "      <td>2019-09-25 11:36:11</td>\n",
              "      <td>2020-03-25 00:00:00</td>\n",
              "      <td>Open</td>\n",
              "      <td>Mixed</td>\n",
              "      <td>0.0</td>\n",
              "      <td>154961</td>\n",
              "    </tr>\n",
              "    <tr>\n",
              "      <th>481192</th>\n",
              "      <td>U49993435</td>\n",
              "      <td>0.00</td>\n",
              "      <td>50.0</td>\n",
              "      <td>2019-09-25 11:36:11</td>\n",
              "      <td>2020-03-25 00:00:00</td>\n",
              "      <td>Open</td>\n",
              "      <td>Mixed</td>\n",
              "      <td>0.0</td>\n",
              "      <td>154961</td>\n",
              "    </tr>\n",
              "    <tr>\n",
              "      <th>481193</th>\n",
              "      <td>U49993492</td>\n",
              "      <td>1000.00</td>\n",
              "      <td>53.0</td>\n",
              "      <td>2019-09-12 13:07:00</td>\n",
              "      <td>2020-03-12 00:00:00</td>\n",
              "      <td>Open</td>\n",
              "      <td>Comm</td>\n",
              "      <td>0.0</td>\n",
              "      <td>424193</td>\n",
              "    </tr>\n",
              "    <tr>\n",
              "      <th>481194</th>\n",
              "      <td>U4999352</td>\n",
              "      <td>2700.00</td>\n",
              "      <td>53.0</td>\n",
              "      <td>2012-05-30 14:28:59</td>\n",
              "      <td>2012-11-30 00:00:00</td>\n",
              "      <td>Open</td>\n",
              "      <td>1-2FAM</td>\n",
              "      <td>0.0</td>\n",
              "      <td>24047</td>\n",
              "    </tr>\n",
              "    <tr>\n",
              "      <th>481195</th>\n",
              "      <td>U49996370</td>\n",
              "      <td>7000.00</td>\n",
              "      <td>62.0</td>\n",
              "      <td>2020-09-17 16:18:18</td>\n",
              "      <td>2021-03-17 00:00:00</td>\n",
              "      <td>Open</td>\n",
              "      <td>1-2FAM</td>\n",
              "      <td>0.0</td>\n",
              "      <td>2829</td>\n",
              "    </tr>\n",
              "  </tbody>\n",
              "</table>\n",
              "<p>472248 rows × 9 columns</p>\n",
              "</div>"
            ],
            "text/plain": [
              "       permitnumber  declared_valuation  total_fees          issued_date  \\\n",
              "0           A100071            40000.00       429.0  2011-11-04 11:04:58   \n",
              "1          A1001012             5000.00        70.0  2020-06-01 14:08:47   \n",
              "2          A1001201            74295.75       803.0  2019-11-13 13:38:56   \n",
              "3           A100137            15000.00       206.0  2013-01-03 14:13:09   \n",
              "4          A1001913                1.00        33.0  2019-10-18 09:21:00   \n",
              "...             ...                 ...         ...                  ...   \n",
              "481191    U49993435                0.00        50.0  2019-09-25 11:36:11   \n",
              "481192    U49993435                0.00        50.0  2019-09-25 11:36:11   \n",
              "481193    U49993492             1000.00        53.0  2019-09-12 13:07:00   \n",
              "481194     U4999352             2700.00        53.0  2012-05-30 14:28:59   \n",
              "481195    U49996370             7000.00        62.0  2020-09-17 16:18:18   \n",
              "\n",
              "            expiration_date status occupancytype  sq_feet  property_id  \n",
              "0       2012-05-04 00:00:00   Open          Comm    170.0        17268  \n",
              "1       2020-12-01 00:00:00   Open        1-3FAM      0.0       113443  \n",
              "2       2020-05-13 00:00:00   Open         Multi      0.0       129994  \n",
              "3       2013-07-03 00:00:00   Open        1-2FAM      0.0       149852  \n",
              "4       2020-04-18 00:00:00   Open          Comm      0.0        20073  \n",
              "...                     ...    ...           ...      ...          ...  \n",
              "481191  2020-03-25 00:00:00   Open         Mixed      0.0       154961  \n",
              "481192  2020-03-25 00:00:00   Open         Mixed      0.0       154961  \n",
              "481193  2020-03-12 00:00:00   Open          Comm      0.0       424193  \n",
              "481194  2012-11-30 00:00:00   Open        1-2FAM      0.0        24047  \n",
              "481195  2021-03-17 00:00:00   Open        1-2FAM      0.0         2829  \n",
              "\n",
              "[472248 rows x 9 columns]"
            ]
          },
          "metadata": {
            "tags": []
          },
          "execution_count": 30
        }
      ]
    },
    {
      "cell_type": "markdown",
      "metadata": {
        "id": "IOe_DFjR_iQc"
      },
      "source": [
        "### Merging Our Data\n",
        "- Merging our data based on the property_id column\n",
        "- pandas .merge inner, since property_id repeats we get many more rows than the original datasets\n",
        "- \n"
      ]
    },
    {
      "cell_type": "code",
      "metadata": {
        "id": "WCdWR9bm_iQc"
      },
      "source": [
        "## inner join on property_id\n",
        "merged_data = clean_inspections.merge(clean_permits, how=\"inner\", left_on=\"property_id\", right_on=\"property_id\")"
      ],
      "execution_count": null,
      "outputs": []
    },
    {
      "cell_type": "code",
      "metadata": {
        "id": "hOezJhnG_iQc",
        "outputId": "430f5afa-5456-4de7-fd52-1607d2bb520b"
      },
      "source": [
        "merged_data.shape"
      ],
      "execution_count": null,
      "outputs": [
        {
          "output_type": "execute_result",
          "data": {
            "text/plain": [
              "(45884114, 23)"
            ]
          },
          "metadata": {
            "tags": []
          },
          "execution_count": 22
        }
      ]
    },
    {
      "cell_type": "code",
      "metadata": {
        "id": "lb8flj6B_iQc",
        "outputId": "4835c219-e1b0-4486-c43e-cb2d91afab65"
      },
      "source": [
        "merged_data.sample(2)#.sort_values(\"issued_date\")"
      ],
      "execution_count": null,
      "outputs": [
        {
          "output_type": "execute_result",
          "data": {
            "text/html": [
              "<div>\n",
              "<style scoped>\n",
              "    .dataframe tbody tr th:only-of-type {\n",
              "        vertical-align: middle;\n",
              "    }\n",
              "\n",
              "    .dataframe tbody tr th {\n",
              "        vertical-align: top;\n",
              "    }\n",
              "\n",
              "    .dataframe thead th {\n",
              "        text-align: right;\n",
              "    }\n",
              "</style>\n",
              "<table border=\"1\" class=\"dataframe\">\n",
              "  <thead>\n",
              "    <tr style=\"text-align: right;\">\n",
              "      <th></th>\n",
              "      <th>licenseno</th>\n",
              "      <th>licstatus</th>\n",
              "      <th>licensecat</th>\n",
              "      <th>descript</th>\n",
              "      <th>result</th>\n",
              "      <th>violation</th>\n",
              "      <th>viollevel</th>\n",
              "      <th>violdesc</th>\n",
              "      <th>violdttm</th>\n",
              "      <th>violstatus</th>\n",
              "      <th>...</th>\n",
              "      <th>zip</th>\n",
              "      <th>property_id</th>\n",
              "      <th>permitnumber</th>\n",
              "      <th>declared_valuation</th>\n",
              "      <th>total_fees</th>\n",
              "      <th>issued_date</th>\n",
              "      <th>expiration_date</th>\n",
              "      <th>status</th>\n",
              "      <th>occupancytype</th>\n",
              "      <th>sq_feet</th>\n",
              "    </tr>\n",
              "  </thead>\n",
              "  <tbody>\n",
              "    <tr>\n",
              "      <th>35180107</th>\n",
              "      <td>163952</td>\n",
              "      <td>Active</td>\n",
              "      <td>FT</td>\n",
              "      <td>Eating &amp; Drinking w/ Take Out</td>\n",
              "      <td>HE_Fail</td>\n",
              "      <td>29-5-201/02.11</td>\n",
              "      <td>*</td>\n",
              "      <td>Installed and Maintained</td>\n",
              "      <td>2017-02-01 11:56:40</td>\n",
              "      <td>Fail</td>\n",
              "      <td>...</td>\n",
              "      <td>02199</td>\n",
              "      <td>157244</td>\n",
              "      <td>EFA588042</td>\n",
              "      <td>400.0</td>\n",
              "      <td>30.0</td>\n",
              "      <td>2016-05-06 13:14:34</td>\n",
              "      <td>2016-11-06 00:00:00</td>\n",
              "      <td>Open</td>\n",
              "      <td>Comm</td>\n",
              "      <td>0.0</td>\n",
              "    </tr>\n",
              "    <tr>\n",
              "      <th>24898849</th>\n",
              "      <td>129193</td>\n",
              "      <td>Inactive</td>\n",
              "      <td>MFW</td>\n",
              "      <td>Mobile Food Walk On</td>\n",
              "      <td>HE_Pass</td>\n",
              "      <td>NaN</td>\n",
              "      <td>NaN</td>\n",
              "      <td>NaN</td>\n",
              "      <td></td>\n",
              "      <td>NaN</td>\n",
              "      <td>...</td>\n",
              "      <td>02128</td>\n",
              "      <td>0</td>\n",
              "      <td>SF29911</td>\n",
              "      <td>1000.0</td>\n",
              "      <td>17.0</td>\n",
              "      <td>2010-06-16 13:04:26</td>\n",
              "      <td>2010-12-16 00:00:00</td>\n",
              "      <td>Open</td>\n",
              "      <td>1-2FAM</td>\n",
              "      <td>48.0</td>\n",
              "    </tr>\n",
              "  </tbody>\n",
              "</table>\n",
              "<p>2 rows × 23 columns</p>\n",
              "</div>"
            ],
            "text/plain": [
              "          licenseno licstatus licensecat                       descript  \\\n",
              "35180107     163952    Active         FT  Eating & Drinking w/ Take Out   \n",
              "24898849     129193  Inactive        MFW            Mobile Food Walk On   \n",
              "\n",
              "           result       violation viollevel                  violdesc  \\\n",
              "35180107  HE_Fail  29-5-201/02.11         *  Installed and Maintained   \n",
              "24898849  HE_Pass             NaN       NaN                       NaN   \n",
              "\n",
              "                     violdttm violstatus  ...    zip property_id permitnumber  \\\n",
              "35180107  2017-02-01 11:56:40       Fail  ...  02199      157244    EFA588042   \n",
              "24898849                             NaN  ...  02128           0      SF29911   \n",
              "\n",
              "         declared_valuation  total_fees          issued_date  \\\n",
              "35180107              400.0        30.0  2016-05-06 13:14:34   \n",
              "24898849             1000.0        17.0  2010-06-16 13:04:26   \n",
              "\n",
              "              expiration_date  status occupancytype sq_feet  \n",
              "35180107  2016-11-06 00:00:00    Open          Comm     0.0  \n",
              "24898849  2010-12-16 00:00:00    Open        1-2FAM    48.0  \n",
              "\n",
              "[2 rows x 23 columns]"
            ]
          },
          "metadata": {
            "tags": []
          },
          "execution_count": 24
        }
      ]
    },
    {
      "cell_type": "markdown",
      "metadata": {
        "id": "H_8l9aqI_iQc"
      },
      "source": [
        "### Merged Data: Further Pre-processing\n",
        "- Refining our features, performing scaling on appropriate columns\n",
        "- Based on previous goals of dropping/encoding/labeling/scaling, we perform all of our pre-processing on the data\n",
        "- Due to the volume, our process was done using only a small subset of data. We later used the same process on larger samples. "
      ]
    },
    {
      "cell_type": "code",
      "metadata": {
        "id": "I5e0wwjR_iQc",
        "outputId": "797f72f2-426d-458a-d4bd-bb8b7aa2e8a2"
      },
      "source": [
        "merged_data.columns"
      ],
      "execution_count": null,
      "outputs": [
        {
          "output_type": "execute_result",
          "data": {
            "text/plain": [
              "Index(['licenseno', 'licstatus', 'licensecat', 'descript', 'result',\n",
              "       'violation', 'viollevel', 'violdesc', 'violdttm', 'violstatus',\n",
              "       'statusdate', 'city', 'state', 'zip', 'property_id', 'permitnumber',\n",
              "       'declared_valuation', 'total_fees', 'issued_date', 'expiration_date',\n",
              "       'status', 'occupancytype', 'sq_feet'],\n",
              "      dtype='object')"
            ]
          },
          "metadata": {
            "tags": []
          },
          "execution_count": 25
        }
      ]
    },
    {
      "cell_type": "code",
      "metadata": {
        "id": "Gz7egglC_iQc"
      },
      "source": [
        "## get a sample of the data to speed up the process\n",
        "sample_data = merged_data.sample(5000)"
      ],
      "execution_count": null,
      "outputs": []
    },
    {
      "cell_type": "code",
      "metadata": {
        "id": "zMQePeAx_iQc",
        "outputId": "1bba1c29-6a83-4aa2-a012-10b0bf0d1d21"
      },
      "source": [
        "sample_data.head(2)"
      ],
      "execution_count": null,
      "outputs": [
        {
          "output_type": "execute_result",
          "data": {
            "text/html": [
              "<div>\n",
              "<style scoped>\n",
              "    .dataframe tbody tr th:only-of-type {\n",
              "        vertical-align: middle;\n",
              "    }\n",
              "\n",
              "    .dataframe tbody tr th {\n",
              "        vertical-align: top;\n",
              "    }\n",
              "\n",
              "    .dataframe thead th {\n",
              "        text-align: right;\n",
              "    }\n",
              "</style>\n",
              "<table border=\"1\" class=\"dataframe\">\n",
              "  <thead>\n",
              "    <tr style=\"text-align: right;\">\n",
              "      <th></th>\n",
              "      <th>licenseno</th>\n",
              "      <th>licstatus</th>\n",
              "      <th>licensecat</th>\n",
              "      <th>descript</th>\n",
              "      <th>result</th>\n",
              "      <th>violation</th>\n",
              "      <th>viollevel</th>\n",
              "      <th>violdesc</th>\n",
              "      <th>violdttm</th>\n",
              "      <th>violstatus</th>\n",
              "      <th>...</th>\n",
              "      <th>zip</th>\n",
              "      <th>property_id</th>\n",
              "      <th>permitnumber</th>\n",
              "      <th>declared_valuation</th>\n",
              "      <th>total_fees</th>\n",
              "      <th>issued_date</th>\n",
              "      <th>expiration_date</th>\n",
              "      <th>status</th>\n",
              "      <th>occupancytype</th>\n",
              "      <th>sq_feet</th>\n",
              "    </tr>\n",
              "  </thead>\n",
              "  <tbody>\n",
              "    <tr>\n",
              "      <th>22514804</th>\n",
              "      <td>25669</td>\n",
              "      <td>Inactive</td>\n",
              "      <td>FT</td>\n",
              "      <td>Eating &amp; Drinking w/ Take Out</td>\n",
              "      <td>HE_Pass</td>\n",
              "      <td>03-3-501.14</td>\n",
              "      <td>***</td>\n",
              "      <td>Cooling</td>\n",
              "      <td>2008-10-28 15:39:29</td>\n",
              "      <td>Pass</td>\n",
              "      <td>...</td>\n",
              "      <td>02127</td>\n",
              "      <td>0</td>\n",
              "      <td>E315886</td>\n",
              "      <td>460000.0</td>\n",
              "      <td>1895.0</td>\n",
              "      <td>2013-12-30 10:23:06</td>\n",
              "      <td>2014-06-30 00:00:00</td>\n",
              "      <td>Closed</td>\n",
              "      <td>Comm</td>\n",
              "      <td>130000.0</td>\n",
              "    </tr>\n",
              "    <tr>\n",
              "      <th>14474045</th>\n",
              "      <td>68113</td>\n",
              "      <td>Active</td>\n",
              "      <td>MFW</td>\n",
              "      <td>Mobile Food Walk On</td>\n",
              "      <td>HE_Pass</td>\n",
              "      <td>NaN</td>\n",
              "      <td>NaN</td>\n",
              "      <td>NaN</td>\n",
              "      <td></td>\n",
              "      <td>NaN</td>\n",
              "      <td>...</td>\n",
              "      <td>2128</td>\n",
              "      <td>0</td>\n",
              "      <td>SF38231</td>\n",
              "      <td>2950.0</td>\n",
              "      <td>50.0</td>\n",
              "      <td>2010-08-13 12:45:11</td>\n",
              "      <td>2011-02-13 00:00:00</td>\n",
              "      <td>Open</td>\n",
              "      <td>Other</td>\n",
              "      <td>3600.0</td>\n",
              "    </tr>\n",
              "  </tbody>\n",
              "</table>\n",
              "<p>2 rows × 23 columns</p>\n",
              "</div>"
            ],
            "text/plain": [
              "          licenseno licstatus licensecat                       descript  \\\n",
              "22514804      25669  Inactive         FT  Eating & Drinking w/ Take Out   \n",
              "14474045      68113    Active        MFW            Mobile Food Walk On   \n",
              "\n",
              "           result    violation viollevel violdesc             violdttm  \\\n",
              "22514804  HE_Pass  03-3-501.14       ***  Cooling  2008-10-28 15:39:29   \n",
              "14474045  HE_Pass          NaN       NaN      NaN                        \n",
              "\n",
              "         violstatus  ...    zip property_id permitnumber declared_valuation  \\\n",
              "22514804       Pass  ...  02127           0      E315886           460000.0   \n",
              "14474045        NaN  ...   2128           0      SF38231             2950.0   \n",
              "\n",
              "          total_fees          issued_date      expiration_date  status  \\\n",
              "22514804      1895.0  2013-12-30 10:23:06  2014-06-30 00:00:00  Closed   \n",
              "14474045        50.0  2010-08-13 12:45:11  2011-02-13 00:00:00    Open   \n",
              "\n",
              "         occupancytype   sq_feet  \n",
              "22514804          Comm  130000.0  \n",
              "14474045         Other    3600.0  \n",
              "\n",
              "[2 rows x 23 columns]"
            ]
          },
          "metadata": {
            "tags": []
          },
          "execution_count": 27
        }
      ]
    },
    {
      "cell_type": "code",
      "metadata": {
        "id": "_xErV57L_iQc"
      },
      "source": [
        "### WE NEED TO DO THIS FOR THE WHOLE DATAFRAME LATER, USING A SAMPLE SUBSET FOR NOW\n",
        "\n",
        "# ## drop ones without zip, also need to make them all integers\n",
        "# sample_data = sample_data.drop(sample_data[sample_data.zip == \" \"].index)\n",
        "# sample_data[\"zip\"] = sample_data.zip.apply(lambda x: int(x))\n",
        "\n",
        "# ## drop ones without occupancy type \" \"\n",
        "# sample_data.occupancytype.unique()\n",
        "# sample_data = sample_data.drop(sample_data[sample_data.occupancytype == \" \"].index)\n"
      ],
      "execution_count": null,
      "outputs": []
    },
    {
      "cell_type": "code",
      "metadata": {
        "id": "MHjQCuYu_iQc"
      },
      "source": [
        "### with all merged data\n",
        "\n",
        "## drop ones without zip, also need to make them all integers\n",
        "merged_data.zip = merged_data.zip.fillna(\" \")\n",
        "merged_data = merged_data.drop(merged_data[merged_data.zip == \" \"].index)\n",
        "merged_data[\"zip\"] = merged_data.zip.apply(lambda x: int(x))\n",
        "\n",
        "## drop ones without occupancy type \" \"\n",
        "merged_data.occupancytype.unique()\n",
        "merged_data = merged_data.drop(merged_data[merged_data.occupancytype == \" \"].index)"
      ],
      "execution_count": null,
      "outputs": []
    },
    {
      "cell_type": "code",
      "metadata": {
        "id": "wjEKIQUT_iQc",
        "outputId": "ac4e8e91-a9b4-43db-f570-73a1a85600e8"
      },
      "source": [
        "merged_data.columns"
      ],
      "execution_count": null,
      "outputs": [
        {
          "output_type": "execute_result",
          "data": {
            "text/plain": [
              "Index(['licenseno', 'licstatus', 'licensecat', 'descript', 'result',\n",
              "       'violation', 'viollevel', 'violdesc', 'violdttm', 'violstatus',\n",
              "       'statusdate', 'city', 'state', 'zip', 'property_id', 'permitnumber',\n",
              "       'declared_valuation', 'total_fees', 'issued_date', 'expiration_date',\n",
              "       'status', 'occupancytype', 'sq_feet'],\n",
              "      dtype='object')"
            ]
          },
          "metadata": {
            "tags": []
          },
          "execution_count": 144
        }
      ]
    },
    {
      "cell_type": "code",
      "metadata": {
        "id": "9fFbyiXo_iQc",
        "outputId": "d44d91d3-bede-4aa2-d9a4-9555f5421cdf"
      },
      "source": [
        "merged_data.sample(2)"
      ],
      "execution_count": null,
      "outputs": [
        {
          "output_type": "execute_result",
          "data": {
            "text/html": [
              "<div>\n",
              "<style scoped>\n",
              "    .dataframe tbody tr th:only-of-type {\n",
              "        vertical-align: middle;\n",
              "    }\n",
              "\n",
              "    .dataframe tbody tr th {\n",
              "        vertical-align: top;\n",
              "    }\n",
              "\n",
              "    .dataframe thead th {\n",
              "        text-align: right;\n",
              "    }\n",
              "</style>\n",
              "<table border=\"1\" class=\"dataframe\">\n",
              "  <thead>\n",
              "    <tr style=\"text-align: right;\">\n",
              "      <th></th>\n",
              "      <th>licenseno</th>\n",
              "      <th>licstatus</th>\n",
              "      <th>licensecat</th>\n",
              "      <th>descript</th>\n",
              "      <th>result</th>\n",
              "      <th>violation</th>\n",
              "      <th>viollevel</th>\n",
              "      <th>violdesc</th>\n",
              "      <th>violdttm</th>\n",
              "      <th>violstatus</th>\n",
              "      <th>...</th>\n",
              "      <th>zip</th>\n",
              "      <th>property_id</th>\n",
              "      <th>permitnumber</th>\n",
              "      <th>declared_valuation</th>\n",
              "      <th>total_fees</th>\n",
              "      <th>issued_date</th>\n",
              "      <th>expiration_date</th>\n",
              "      <th>status</th>\n",
              "      <th>occupancytype</th>\n",
              "      <th>sq_feet</th>\n",
              "    </tr>\n",
              "  </thead>\n",
              "  <tbody>\n",
              "    <tr>\n",
              "      <th>18694748</th>\n",
              "      <td>76348</td>\n",
              "      <td>Active</td>\n",
              "      <td>MFW</td>\n",
              "      <td>Mobile Food Walk On</td>\n",
              "      <td>HE_Fail</td>\n",
              "      <td>NaN</td>\n",
              "      <td>NaN</td>\n",
              "      <td>NaN</td>\n",
              "      <td></td>\n",
              "      <td>NaN</td>\n",
              "      <td>...</td>\n",
              "      <td>2128</td>\n",
              "      <td>0</td>\n",
              "      <td>E64722</td>\n",
              "      <td>400.0</td>\n",
              "      <td>30.0</td>\n",
              "      <td>2011-02-18 14:00:59</td>\n",
              "      <td>2011-08-18 00:00:00</td>\n",
              "      <td>Closed</td>\n",
              "      <td>Comm</td>\n",
              "      <td>0.0</td>\n",
              "    </tr>\n",
              "    <tr>\n",
              "      <th>27360052</th>\n",
              "      <td>75234</td>\n",
              "      <td>Inactive</td>\n",
              "      <td>MFW</td>\n",
              "      <td>Mobile Food Walk On</td>\n",
              "      <td>HE_Pass</td>\n",
              "      <td>M-2-103.11</td>\n",
              "      <td>***</td>\n",
              "      <td>PIC Performing Duties</td>\n",
              "      <td>2017-09-29 11:35:54</td>\n",
              "      <td>Pass</td>\n",
              "      <td>...</td>\n",
              "      <td>2128</td>\n",
              "      <td>0</td>\n",
              "      <td>E54147</td>\n",
              "      <td>19000.0</td>\n",
              "      <td>90.0</td>\n",
              "      <td>2010-12-03 08:35:16</td>\n",
              "      <td>2011-06-03 00:00:00</td>\n",
              "      <td>Closed</td>\n",
              "      <td>1-3FAM</td>\n",
              "      <td>0.0</td>\n",
              "    </tr>\n",
              "  </tbody>\n",
              "</table>\n",
              "<p>2 rows × 23 columns</p>\n",
              "</div>"
            ],
            "text/plain": [
              "          licenseno licstatus licensecat             descript   result  \\\n",
              "18694748      76348    Active        MFW  Mobile Food Walk On  HE_Fail   \n",
              "27360052      75234  Inactive        MFW  Mobile Food Walk On  HE_Pass   \n",
              "\n",
              "           violation viollevel               violdesc             violdttm  \\\n",
              "18694748         NaN       NaN                    NaN                        \n",
              "27360052  M-2-103.11       ***  PIC Performing Duties  2017-09-29 11:35:54   \n",
              "\n",
              "         violstatus  ...   zip property_id permitnumber  declared_valuation  \\\n",
              "18694748        NaN  ...  2128           0       E64722               400.0   \n",
              "27360052       Pass  ...  2128           0       E54147             19000.0   \n",
              "\n",
              "          total_fees          issued_date      expiration_date  status  \\\n",
              "18694748        30.0  2011-02-18 14:00:59  2011-08-18 00:00:00  Closed   \n",
              "27360052        90.0  2010-12-03 08:35:16  2011-06-03 00:00:00  Closed   \n",
              "\n",
              "         occupancytype sq_feet  \n",
              "18694748          Comm     0.0  \n",
              "27360052        1-3FAM     0.0  \n",
              "\n",
              "[2 rows x 23 columns]"
            ]
          },
          "metadata": {
            "tags": []
          },
          "execution_count": 145
        }
      ]
    },
    {
      "cell_type": "code",
      "metadata": {
        "id": "QV4QDoH2_iQc"
      },
      "source": [
        "def cleanup_merged_data(merged_data):\n",
        "    \"\"\"\n",
        "    Function cleans our merged data (whether full or sampled) by dropping previously mentioned columns, one-hot encoding categorical variables,\n",
        "    dropping the encoded variables, and scaling relevant continuous features. \n",
        "    :input: merged_data sample/full\n",
        "    :output: cleaned dataframe for model building\n",
        "    \"\"\"\n",
        "    ## we need to drop: viollevel, violation, violdttm, status_date, violdesc, city, \n",
        "    ## permit_number, issued_date, expiration_date, status\n",
        "    to_drop = [\"viollevel\", \"violation\", \"violdttm\", \"violdesc\", \"statusdate\", \"permitnumber\", \n",
        "               \"issued_date\", \"expiration_date\", \"status\"]\n",
        "    \n",
        "    ## drop the columns we no longer need\n",
        "    filt_df = merged_data.drop(to_drop, axis=1)\n",
        "    \n",
        "    ## we need to encode: descript, licensecat, zip, occupancy_type (pandas dummies)\n",
        "    licensestatus_dummies = pd.get_dummies(filt_df.licstatus)\n",
        "    description_dummies = pd.get_dummies(filt_df.descript)\n",
        "    licensecat_dummies = pd.get_dummies(filt_df.licensecat)\n",
        "    zip_dummies = pd.get_dummies(filt_df.zip)\n",
        "    occ_dummies = pd.get_dummies(filt_df.occupancytype)\n",
        "\n",
        "    ## join the dummies based on index, then drop the columns\n",
        "    filt_df = filt_df.join(licensestatus_dummies)\n",
        "    filt_df = filt_df.join(description_dummies)\n",
        "    filt_df = filt_df.join(licensecat_dummies)\n",
        "    filt_df = filt_df.join(zip_dummies)\n",
        "    filt_df = filt_df.join(occ_dummies)\n",
        "    \n",
        "    # dropped the encoded columns\n",
        "    filt_df.drop([\"descript\", \"licensecat\", \"zip\", \"occupancytype\"], axis=1, inplace=True)\n",
        "    \n",
        "    \n",
        "    ## we need to scale: declared_valuation, total_fees, square feet\n",
        "    valuation_scaled = RobustScaler().fit_transform(filt_df.declared_valuation.values.reshape(-1,1))\n",
        "    fees_scaled = RobustScaler().fit_transform(filt_df.total_fees.values.reshape(-1,1))\n",
        "    sqft_scaled = RobustScaler().fit_transform(filt_df.sq_feet.values.reshape(-1,1))\n",
        "    \n",
        "    filt_df[\"declared_valuation\"] = valuation_scaled\n",
        "    filt_df[\"total_fees\"] = fees_scaled\n",
        "#     filt_df[\"sq_feet\"] - sqft_scaled ## doesn't work for some reason, scaling done in model building stage\n",
        "\n",
        "    ## need to label encode licstatus, result\n",
        "    licstatus_labels = LabelEncoder().fit_transform(filt_df.licstatus) ##1 inactive, 0 active\n",
        "    filt_df[\"licstatus\"] = licstatus_labels\n",
        "    \n",
        "    result_labels = LabelEncoder().fit_transform(filt_df.result) ##1 pass, 0 fail\n",
        "    filt_df[\"result\"] = result_labels\n",
        "    \n",
        "    ## now making final removals of features, making decisions as to what to use\n",
        "    # drop: violstatus (already have result), state, city (since we already have zip)\n",
        "    filt_df.drop([\"violstatus\", \"state\", \"city\"], axis=1, inplace=True)\n",
        "    \n",
        "    return filt_df\n",
        "    \n"
      ],
      "execution_count": null,
      "outputs": []
    },
    {
      "cell_type": "code",
      "metadata": {
        "id": "oYXnWLaJ_iQc"
      },
      "source": [
        "## getting a preliminary 'clean_df' \n",
        "prelim_clean_df = cleanup_merged_data(merged_data)"
      ],
      "execution_count": null,
      "outputs": []
    },
    {
      "cell_type": "code",
      "metadata": {
        "id": "d9nFAXNy_iQc",
        "outputId": "4c9988a2-32ad-4d92-a702-e45344d762b6"
      },
      "source": [
        "## licstatus: 1 inactive, 0 active\n",
        "## result: 1 pass, 0 fail\n",
        "prelim_clean_df\n"
      ],
      "execution_count": null,
      "outputs": [
        {
          "output_type": "execute_result",
          "data": {
            "text/html": [
              "<div>\n",
              "<style scoped>\n",
              "    .dataframe tbody tr th:only-of-type {\n",
              "        vertical-align: middle;\n",
              "    }\n",
              "\n",
              "    .dataframe tbody tr th {\n",
              "        vertical-align: top;\n",
              "    }\n",
              "\n",
              "    .dataframe thead th {\n",
              "        text-align: right;\n",
              "    }\n",
              "</style>\n",
              "<table border=\"1\" class=\"dataframe\">\n",
              "  <thead>\n",
              "    <tr style=\"text-align: right;\">\n",
              "      <th></th>\n",
              "      <th>licenseno</th>\n",
              "      <th>licstatus</th>\n",
              "      <th>result</th>\n",
              "      <th>property_id</th>\n",
              "      <th>declared_valuation</th>\n",
              "      <th>total_fees</th>\n",
              "      <th>sq_feet</th>\n",
              "      <th>Active</th>\n",
              "      <th>Deleted</th>\n",
              "      <th>Inactive</th>\n",
              "      <th>...</th>\n",
              "      <th>5unit</th>\n",
              "      <th>6unit</th>\n",
              "      <th>7More</th>\n",
              "      <th>7unit</th>\n",
              "      <th>COMM</th>\n",
              "      <th>Comm</th>\n",
              "      <th>Mixed</th>\n",
              "      <th>Multi</th>\n",
              "      <th>Other</th>\n",
              "      <th>VacLd</th>\n",
              "    </tr>\n",
              "  </thead>\n",
              "  <tbody>\n",
              "    <tr>\n",
              "      <th>0</th>\n",
              "      <td>87059</td>\n",
              "      <td>0</td>\n",
              "      <td>0</td>\n",
              "      <td>77476</td>\n",
              "      <td>-0.212766</td>\n",
              "      <td>-0.005747</td>\n",
              "      <td>0.0</td>\n",
              "      <td>1</td>\n",
              "      <td>0</td>\n",
              "      <td>0</td>\n",
              "      <td>...</td>\n",
              "      <td>0</td>\n",
              "      <td>0</td>\n",
              "      <td>0</td>\n",
              "      <td>0</td>\n",
              "      <td>0</td>\n",
              "      <td>1</td>\n",
              "      <td>0</td>\n",
              "      <td>0</td>\n",
              "      <td>0</td>\n",
              "      <td>0</td>\n",
              "    </tr>\n",
              "    <tr>\n",
              "      <th>3</th>\n",
              "      <td>87059</td>\n",
              "      <td>0</td>\n",
              "      <td>0</td>\n",
              "      <td>77476</td>\n",
              "      <td>-0.153191</td>\n",
              "      <td>-0.195402</td>\n",
              "      <td>0.0</td>\n",
              "      <td>1</td>\n",
              "      <td>0</td>\n",
              "      <td>0</td>\n",
              "      <td>...</td>\n",
              "      <td>0</td>\n",
              "      <td>0</td>\n",
              "      <td>0</td>\n",
              "      <td>0</td>\n",
              "      <td>0</td>\n",
              "      <td>1</td>\n",
              "      <td>0</td>\n",
              "      <td>0</td>\n",
              "      <td>0</td>\n",
              "      <td>0</td>\n",
              "    </tr>\n",
              "    <tr>\n",
              "      <th>4</th>\n",
              "      <td>87059</td>\n",
              "      <td>0</td>\n",
              "      <td>0</td>\n",
              "      <td>77476</td>\n",
              "      <td>-0.106383</td>\n",
              "      <td>-0.218391</td>\n",
              "      <td>0.0</td>\n",
              "      <td>1</td>\n",
              "      <td>0</td>\n",
              "      <td>0</td>\n",
              "      <td>...</td>\n",
              "      <td>0</td>\n",
              "      <td>0</td>\n",
              "      <td>0</td>\n",
              "      <td>0</td>\n",
              "      <td>0</td>\n",
              "      <td>1</td>\n",
              "      <td>0</td>\n",
              "      <td>0</td>\n",
              "      <td>0</td>\n",
              "      <td>0</td>\n",
              "    </tr>\n",
              "    <tr>\n",
              "      <th>5</th>\n",
              "      <td>87059</td>\n",
              "      <td>0</td>\n",
              "      <td>0</td>\n",
              "      <td>77476</td>\n",
              "      <td>-0.042553</td>\n",
              "      <td>0.235632</td>\n",
              "      <td>0.0</td>\n",
              "      <td>1</td>\n",
              "      <td>0</td>\n",
              "      <td>0</td>\n",
              "      <td>...</td>\n",
              "      <td>0</td>\n",
              "      <td>0</td>\n",
              "      <td>0</td>\n",
              "      <td>0</td>\n",
              "      <td>0</td>\n",
              "      <td>1</td>\n",
              "      <td>0</td>\n",
              "      <td>0</td>\n",
              "      <td>0</td>\n",
              "      <td>0</td>\n",
              "    </tr>\n",
              "    <tr>\n",
              "      <th>6</th>\n",
              "      <td>87059</td>\n",
              "      <td>0</td>\n",
              "      <td>0</td>\n",
              "      <td>77476</td>\n",
              "      <td>-0.106383</td>\n",
              "      <td>-0.057471</td>\n",
              "      <td>0.0</td>\n",
              "      <td>1</td>\n",
              "      <td>0</td>\n",
              "      <td>0</td>\n",
              "      <td>...</td>\n",
              "      <td>0</td>\n",
              "      <td>0</td>\n",
              "      <td>0</td>\n",
              "      <td>0</td>\n",
              "      <td>0</td>\n",
              "      <td>1</td>\n",
              "      <td>0</td>\n",
              "      <td>0</td>\n",
              "      <td>0</td>\n",
              "      <td>0</td>\n",
              "    </tr>\n",
              "    <tr>\n",
              "      <th>...</th>\n",
              "      <td>...</td>\n",
              "      <td>...</td>\n",
              "      <td>...</td>\n",
              "      <td>...</td>\n",
              "      <td>...</td>\n",
              "      <td>...</td>\n",
              "      <td>...</td>\n",
              "      <td>...</td>\n",
              "      <td>...</td>\n",
              "      <td>...</td>\n",
              "      <td>...</td>\n",
              "      <td>...</td>\n",
              "      <td>...</td>\n",
              "      <td>...</td>\n",
              "      <td>...</td>\n",
              "      <td>...</td>\n",
              "      <td>...</td>\n",
              "      <td>...</td>\n",
              "      <td>...</td>\n",
              "      <td>...</td>\n",
              "      <td>...</td>\n",
              "    </tr>\n",
              "    <tr>\n",
              "      <th>45884109</th>\n",
              "      <td>27260</td>\n",
              "      <td>0</td>\n",
              "      <td>1</td>\n",
              "      <td>88457</td>\n",
              "      <td>0.553191</td>\n",
              "      <td>0.000000</td>\n",
              "      <td>700.0</td>\n",
              "      <td>1</td>\n",
              "      <td>0</td>\n",
              "      <td>0</td>\n",
              "      <td>...</td>\n",
              "      <td>0</td>\n",
              "      <td>0</td>\n",
              "      <td>0</td>\n",
              "      <td>0</td>\n",
              "      <td>0</td>\n",
              "      <td>1</td>\n",
              "      <td>0</td>\n",
              "      <td>0</td>\n",
              "      <td>0</td>\n",
              "      <td>0</td>\n",
              "    </tr>\n",
              "    <tr>\n",
              "      <th>45884110</th>\n",
              "      <td>27260</td>\n",
              "      <td>0</td>\n",
              "      <td>1</td>\n",
              "      <td>88457</td>\n",
              "      <td>1.914894</td>\n",
              "      <td>0.574713</td>\n",
              "      <td>0.0</td>\n",
              "      <td>1</td>\n",
              "      <td>0</td>\n",
              "      <td>0</td>\n",
              "      <td>...</td>\n",
              "      <td>0</td>\n",
              "      <td>0</td>\n",
              "      <td>0</td>\n",
              "      <td>0</td>\n",
              "      <td>0</td>\n",
              "      <td>0</td>\n",
              "      <td>0</td>\n",
              "      <td>0</td>\n",
              "      <td>0</td>\n",
              "      <td>0</td>\n",
              "    </tr>\n",
              "    <tr>\n",
              "      <th>45884111</th>\n",
              "      <td>27260</td>\n",
              "      <td>0</td>\n",
              "      <td>1</td>\n",
              "      <td>88457</td>\n",
              "      <td>-0.148936</td>\n",
              "      <td>-0.172414</td>\n",
              "      <td>900.0</td>\n",
              "      <td>1</td>\n",
              "      <td>0</td>\n",
              "      <td>0</td>\n",
              "      <td>...</td>\n",
              "      <td>0</td>\n",
              "      <td>0</td>\n",
              "      <td>0</td>\n",
              "      <td>0</td>\n",
              "      <td>0</td>\n",
              "      <td>1</td>\n",
              "      <td>0</td>\n",
              "      <td>0</td>\n",
              "      <td>0</td>\n",
              "      <td>0</td>\n",
              "    </tr>\n",
              "    <tr>\n",
              "      <th>45884112</th>\n",
              "      <td>27260</td>\n",
              "      <td>0</td>\n",
              "      <td>1</td>\n",
              "      <td>88457</td>\n",
              "      <td>-0.208511</td>\n",
              "      <td>-0.201149</td>\n",
              "      <td>0.0</td>\n",
              "      <td>1</td>\n",
              "      <td>0</td>\n",
              "      <td>0</td>\n",
              "      <td>...</td>\n",
              "      <td>0</td>\n",
              "      <td>0</td>\n",
              "      <td>0</td>\n",
              "      <td>0</td>\n",
              "      <td>0</td>\n",
              "      <td>0</td>\n",
              "      <td>0</td>\n",
              "      <td>1</td>\n",
              "      <td>0</td>\n",
              "      <td>0</td>\n",
              "    </tr>\n",
              "    <tr>\n",
              "      <th>45884113</th>\n",
              "      <td>27260</td>\n",
              "      <td>0</td>\n",
              "      <td>1</td>\n",
              "      <td>88457</td>\n",
              "      <td>0.000000</td>\n",
              "      <td>0.057471</td>\n",
              "      <td>560.0</td>\n",
              "      <td>1</td>\n",
              "      <td>0</td>\n",
              "      <td>0</td>\n",
              "      <td>...</td>\n",
              "      <td>0</td>\n",
              "      <td>0</td>\n",
              "      <td>0</td>\n",
              "      <td>0</td>\n",
              "      <td>0</td>\n",
              "      <td>0</td>\n",
              "      <td>1</td>\n",
              "      <td>0</td>\n",
              "      <td>0</td>\n",
              "      <td>0</td>\n",
              "    </tr>\n",
              "  </tbody>\n",
              "</table>\n",
              "<p>45540558 rows × 71 columns</p>\n",
              "</div>"
            ],
            "text/plain": [
              "          licenseno  licstatus  result  property_id  declared_valuation  \\\n",
              "0             87059          0       0        77476           -0.212766   \n",
              "3             87059          0       0        77476           -0.153191   \n",
              "4             87059          0       0        77476           -0.106383   \n",
              "5             87059          0       0        77476           -0.042553   \n",
              "6             87059          0       0        77476           -0.106383   \n",
              "...             ...        ...     ...          ...                 ...   \n",
              "45884109      27260          0       1        88457            0.553191   \n",
              "45884110      27260          0       1        88457            1.914894   \n",
              "45884111      27260          0       1        88457           -0.148936   \n",
              "45884112      27260          0       1        88457           -0.208511   \n",
              "45884113      27260          0       1        88457            0.000000   \n",
              "\n",
              "          total_fees  sq_feet  Active  Deleted  Inactive  ...  5unit  6unit  \\\n",
              "0          -0.005747      0.0       1        0         0  ...      0      0   \n",
              "3          -0.195402      0.0       1        0         0  ...      0      0   \n",
              "4          -0.218391      0.0       1        0         0  ...      0      0   \n",
              "5           0.235632      0.0       1        0         0  ...      0      0   \n",
              "6          -0.057471      0.0       1        0         0  ...      0      0   \n",
              "...              ...      ...     ...      ...       ...  ...    ...    ...   \n",
              "45884109    0.000000    700.0       1        0         0  ...      0      0   \n",
              "45884110    0.574713      0.0       1        0         0  ...      0      0   \n",
              "45884111   -0.172414    900.0       1        0         0  ...      0      0   \n",
              "45884112   -0.201149      0.0       1        0         0  ...      0      0   \n",
              "45884113    0.057471    560.0       1        0         0  ...      0      0   \n",
              "\n",
              "          7More  7unit  COMM  Comm  Mixed  Multi  Other  VacLd  \n",
              "0             0      0     0     1      0      0      0      0  \n",
              "3             0      0     0     1      0      0      0      0  \n",
              "4             0      0     0     1      0      0      0      0  \n",
              "5             0      0     0     1      0      0      0      0  \n",
              "6             0      0     0     1      0      0      0      0  \n",
              "...         ...    ...   ...   ...    ...    ...    ...    ...  \n",
              "45884109      0      0     0     1      0      0      0      0  \n",
              "45884110      0      0     0     0      0      0      0      0  \n",
              "45884111      0      0     0     1      0      0      0      0  \n",
              "45884112      0      0     0     0      0      1      0      0  \n",
              "45884113      0      0     0     0      1      0      0      0  \n",
              "\n",
              "[45540558 rows x 71 columns]"
            ]
          },
          "metadata": {
            "tags": []
          },
          "execution_count": 147
        }
      ]
    },
    {
      "cell_type": "markdown",
      "metadata": {
        "id": "XrwBlIWWWC0O"
      },
      "source": [
        "### Write our full merged df as a CSV file for efficiency purposes"
      ]
    },
    {
      "cell_type": "code",
      "metadata": {
        "id": "dvEBERa-_iQc"
      },
      "source": [
        "# prelim_clean_df.to_csv(\"cleaned_data.gz\", compression=\"gzip\", chunksize=10000)"
      ],
      "execution_count": null,
      "outputs": []
    },
    {
      "cell_type": "code",
      "metadata": {
        "id": "cH0F4zr5_iQc"
      },
      "source": [
        "# prelim_clean_df.to_csv(\"cleaned_data.csv\")"
      ],
      "execution_count": null,
      "outputs": []
    }
  ]
}
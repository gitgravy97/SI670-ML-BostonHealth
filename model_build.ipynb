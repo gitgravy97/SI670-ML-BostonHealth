{
  "nbformat": 4,
  "nbformat_minor": 0,
  "metadata": {
    "kernelspec": {
      "display_name": "Python 3",
      "language": "python",
      "name": "python3"
    },
    "language_info": {
      "codemirror_mode": {
        "name": "ipython",
        "version": 3
      },
      "file_extension": ".py",
      "mimetype": "text/x-python",
      "name": "python",
      "nbconvert_exporter": "python",
      "pygments_lexer": "ipython3",
      "version": "3.8.5"
    },
    "colab": {
      "name": "model_build.ipynb",
      "provenance": []
    }
  },
  "cells": [
    {
      "cell_type": "markdown",
      "metadata": {
        "id": "T4V6Li6V0WPm"
      },
      "source": [
        "# SI670 Project: Boston Health Inspections"
      ]
    },
    {
      "cell_type": "markdown",
      "metadata": {
        "id": "7-6ZX9VtPq90"
      },
      "source": [
        "# Part 2: ML Model Building"
      ]
    },
    {
      "cell_type": "markdown",
      "metadata": {
        "id": "o-mylsWVPy5J"
      },
      "source": [
        "### Planning\n",
        "- Read in sampled subset of the data\n",
        "- Perform some pre-processing previously not done (scaling of square footage)\n",
        "- Separate data for model training and evaluation\n",
        "- Machine Learning Process:\n",
        "    - Baselines: Dummy classifier with strategy=[uniform, stratified, most frequent, prior\n",
        "    - Vanilla ML Models: Logistic Regression, Linear SVC, KNN, Random Forest, XGBoost\n",
        "    - Principal Component Analysis (PCA)\n",
        "    - GridSearch parameter tuning  "
      ]
    },
    {
      "cell_type": "markdown",
      "metadata": {
        "id": "p83WkJIj0TK0"
      },
      "source": [
        "# Setup\n",
        "Import Pandas and, if running non-local, mount to Google Drive for file access"
      ]
    },
    {
      "cell_type": "code",
      "metadata": {
        "id": "_0-FL0h7zQxY"
      },
      "source": [
        "import pandas as pd"
      ],
      "execution_count": null,
      "outputs": []
    },
    {
      "cell_type": "code",
      "metadata": {
        "id": "QREmSCFvzpfj",
        "colab": {
          "base_uri": "https://localhost:8080/"
        },
        "outputId": "0c3364b0-713d-4a47-9bce-d389fb5363c0"
      },
      "source": [
        "from google.colab import drive\n",
        "drive.mount('/content/drive', force_remount=True)"
      ],
      "execution_count": null,
      "outputs": [
        {
          "output_type": "stream",
          "text": [
            "Mounted at /content/drive\n"
          ],
          "name": "stdout"
        }
      ]
    },
    {
      "cell_type": "markdown",
      "metadata": {
        "id": "9syc9vVH0gjZ"
      },
      "source": [
        "# Read & Prepare a Sample as Dataframe"
      ]
    },
    {
      "cell_type": "code",
      "metadata": {
        "id": "HxHZ-8bdzQxZ"
      },
      "source": [
        "#sample_df = pd.read_csv(\"sampled_clean_data.csv\")\n",
        "sample_df = pd.read_csv('drive/Shared drives/SI670 Project [Machine Learning]/data/sampled_clean_data_3.csv')\n",
        "sample_df.drop([\"Unnamed: 0\"], axis=1, inplace=True)"
      ],
      "execution_count": null,
      "outputs": []
    },
    {
      "cell_type": "code",
      "metadata": {
        "colab": {
          "base_uri": "https://localhost:8080/",
          "height": 275
        },
        "id": "toq51cLE6Rtg",
        "outputId": "1fbdb1df-09e1-420d-ea32-a7a2498524f0"
      },
      "source": [
        "sample_df.head(5)"
      ],
      "execution_count": null,
      "outputs": [
        {
          "output_type": "execute_result",
          "data": {
            "text/html": [
              "<div>\n",
              "<style scoped>\n",
              "    .dataframe tbody tr th:only-of-type {\n",
              "        vertical-align: middle;\n",
              "    }\n",
              "\n",
              "    .dataframe tbody tr th {\n",
              "        vertical-align: top;\n",
              "    }\n",
              "\n",
              "    .dataframe thead th {\n",
              "        text-align: right;\n",
              "    }\n",
              "</style>\n",
              "<table border=\"1\" class=\"dataframe\">\n",
              "  <thead>\n",
              "    <tr style=\"text-align: right;\">\n",
              "      <th></th>\n",
              "      <th>licenseno</th>\n",
              "      <th>result</th>\n",
              "      <th>property_id</th>\n",
              "      <th>declared_valuation</th>\n",
              "      <th>total_fees</th>\n",
              "      <th>sq_feet</th>\n",
              "      <th>Active</th>\n",
              "      <th>Deleted</th>\n",
              "      <th>Inactive</th>\n",
              "      <th>Eating &amp; Drinking</th>\n",
              "      <th>Eating &amp; Drinking w/ Take Out</th>\n",
              "      <th>Mobile Food Walk On</th>\n",
              "      <th>Retail Food</th>\n",
              "      <th>FS</th>\n",
              "      <th>FT</th>\n",
              "      <th>MFW</th>\n",
              "      <th>RF</th>\n",
              "      <th>2108</th>\n",
              "      <th>2109</th>\n",
              "      <th>2110</th>\n",
              "      <th>2111</th>\n",
              "      <th>2113</th>\n",
              "      <th>2114</th>\n",
              "      <th>2115</th>\n",
              "      <th>2116</th>\n",
              "      <th>2117</th>\n",
              "      <th>2118</th>\n",
              "      <th>2119</th>\n",
              "      <th>2120</th>\n",
              "      <th>2121</th>\n",
              "      <th>2122</th>\n",
              "      <th>2124</th>\n",
              "      <th>2125</th>\n",
              "      <th>2126</th>\n",
              "      <th>2127</th>\n",
              "      <th>2128</th>\n",
              "      <th>2129</th>\n",
              "      <th>2130</th>\n",
              "      <th>2131</th>\n",
              "      <th>2132</th>\n",
              "      <th>2134</th>\n",
              "      <th>2135</th>\n",
              "      <th>2136</th>\n",
              "      <th>2140</th>\n",
              "      <th>2163</th>\n",
              "      <th>2199</th>\n",
              "      <th>2201</th>\n",
              "      <th>2203</th>\n",
              "      <th>2210</th>\n",
              "      <th>2215</th>\n",
              "      <th>2315</th>\n",
              "      <th>2467</th>\n",
              "      <th>1-2FAM</th>\n",
              "      <th>1-3FAM</th>\n",
              "      <th>1-4FAM</th>\n",
              "      <th>1-7FAM</th>\n",
              "      <th>1Unit</th>\n",
              "      <th>2unit</th>\n",
              "      <th>3unit</th>\n",
              "      <th>4unit</th>\n",
              "      <th>5unit</th>\n",
              "      <th>6unit</th>\n",
              "      <th>7More</th>\n",
              "      <th>7unit</th>\n",
              "      <th>COMM</th>\n",
              "      <th>Comm</th>\n",
              "      <th>Mixed</th>\n",
              "      <th>Multi</th>\n",
              "      <th>Other</th>\n",
              "      <th>VacLd</th>\n",
              "    </tr>\n",
              "  </thead>\n",
              "  <tbody>\n",
              "    <tr>\n",
              "      <th>0</th>\n",
              "      <td>74211</td>\n",
              "      <td>1</td>\n",
              "      <td>0</td>\n",
              "      <td>2.340426</td>\n",
              "      <td>-0.114943</td>\n",
              "      <td>0.0</td>\n",
              "      <td>1</td>\n",
              "      <td>0</td>\n",
              "      <td>0</td>\n",
              "      <td>1</td>\n",
              "      <td>0</td>\n",
              "      <td>0</td>\n",
              "      <td>0</td>\n",
              "      <td>1</td>\n",
              "      <td>0</td>\n",
              "      <td>0</td>\n",
              "      <td>0</td>\n",
              "      <td>0</td>\n",
              "      <td>0</td>\n",
              "      <td>0</td>\n",
              "      <td>0</td>\n",
              "      <td>0</td>\n",
              "      <td>0</td>\n",
              "      <td>0</td>\n",
              "      <td>0</td>\n",
              "      <td>0</td>\n",
              "      <td>0</td>\n",
              "      <td>0</td>\n",
              "      <td>0</td>\n",
              "      <td>0</td>\n",
              "      <td>0</td>\n",
              "      <td>0</td>\n",
              "      <td>0</td>\n",
              "      <td>0</td>\n",
              "      <td>0</td>\n",
              "      <td>0</td>\n",
              "      <td>0</td>\n",
              "      <td>0</td>\n",
              "      <td>0</td>\n",
              "      <td>0</td>\n",
              "      <td>0</td>\n",
              "      <td>1</td>\n",
              "      <td>0</td>\n",
              "      <td>0</td>\n",
              "      <td>0</td>\n",
              "      <td>0</td>\n",
              "      <td>0</td>\n",
              "      <td>0</td>\n",
              "      <td>0</td>\n",
              "      <td>0</td>\n",
              "      <td>0</td>\n",
              "      <td>0</td>\n",
              "      <td>0</td>\n",
              "      <td>0</td>\n",
              "      <td>0</td>\n",
              "      <td>0</td>\n",
              "      <td>0</td>\n",
              "      <td>0</td>\n",
              "      <td>0</td>\n",
              "      <td>0</td>\n",
              "      <td>0</td>\n",
              "      <td>0</td>\n",
              "      <td>0</td>\n",
              "      <td>0</td>\n",
              "      <td>0</td>\n",
              "      <td>1</td>\n",
              "      <td>0</td>\n",
              "      <td>0</td>\n",
              "      <td>0</td>\n",
              "      <td>0</td>\n",
              "    </tr>\n",
              "    <tr>\n",
              "      <th>1</th>\n",
              "      <td>28288</td>\n",
              "      <td>0</td>\n",
              "      <td>0</td>\n",
              "      <td>0.042553</td>\n",
              "      <td>0.114943</td>\n",
              "      <td>0.0</td>\n",
              "      <td>1</td>\n",
              "      <td>0</td>\n",
              "      <td>0</td>\n",
              "      <td>1</td>\n",
              "      <td>0</td>\n",
              "      <td>0</td>\n",
              "      <td>0</td>\n",
              "      <td>1</td>\n",
              "      <td>0</td>\n",
              "      <td>0</td>\n",
              "      <td>0</td>\n",
              "      <td>0</td>\n",
              "      <td>0</td>\n",
              "      <td>0</td>\n",
              "      <td>0</td>\n",
              "      <td>0</td>\n",
              "      <td>0</td>\n",
              "      <td>0</td>\n",
              "      <td>0</td>\n",
              "      <td>0</td>\n",
              "      <td>0</td>\n",
              "      <td>0</td>\n",
              "      <td>0</td>\n",
              "      <td>0</td>\n",
              "      <td>0</td>\n",
              "      <td>0</td>\n",
              "      <td>0</td>\n",
              "      <td>0</td>\n",
              "      <td>0</td>\n",
              "      <td>0</td>\n",
              "      <td>1</td>\n",
              "      <td>0</td>\n",
              "      <td>0</td>\n",
              "      <td>0</td>\n",
              "      <td>0</td>\n",
              "      <td>0</td>\n",
              "      <td>0</td>\n",
              "      <td>0</td>\n",
              "      <td>0</td>\n",
              "      <td>0</td>\n",
              "      <td>0</td>\n",
              "      <td>0</td>\n",
              "      <td>0</td>\n",
              "      <td>0</td>\n",
              "      <td>0</td>\n",
              "      <td>0</td>\n",
              "      <td>0</td>\n",
              "      <td>0</td>\n",
              "      <td>0</td>\n",
              "      <td>0</td>\n",
              "      <td>0</td>\n",
              "      <td>0</td>\n",
              "      <td>0</td>\n",
              "      <td>0</td>\n",
              "      <td>0</td>\n",
              "      <td>0</td>\n",
              "      <td>0</td>\n",
              "      <td>0</td>\n",
              "      <td>0</td>\n",
              "      <td>1</td>\n",
              "      <td>0</td>\n",
              "      <td>0</td>\n",
              "      <td>0</td>\n",
              "      <td>0</td>\n",
              "    </tr>\n",
              "    <tr>\n",
              "      <th>2</th>\n",
              "      <td>28288</td>\n",
              "      <td>0</td>\n",
              "      <td>0</td>\n",
              "      <td>0.638298</td>\n",
              "      <td>0.114943</td>\n",
              "      <td>3000.0</td>\n",
              "      <td>1</td>\n",
              "      <td>0</td>\n",
              "      <td>0</td>\n",
              "      <td>1</td>\n",
              "      <td>0</td>\n",
              "      <td>0</td>\n",
              "      <td>0</td>\n",
              "      <td>1</td>\n",
              "      <td>0</td>\n",
              "      <td>0</td>\n",
              "      <td>0</td>\n",
              "      <td>0</td>\n",
              "      <td>0</td>\n",
              "      <td>0</td>\n",
              "      <td>0</td>\n",
              "      <td>0</td>\n",
              "      <td>0</td>\n",
              "      <td>0</td>\n",
              "      <td>0</td>\n",
              "      <td>0</td>\n",
              "      <td>0</td>\n",
              "      <td>0</td>\n",
              "      <td>0</td>\n",
              "      <td>0</td>\n",
              "      <td>0</td>\n",
              "      <td>0</td>\n",
              "      <td>0</td>\n",
              "      <td>0</td>\n",
              "      <td>0</td>\n",
              "      <td>0</td>\n",
              "      <td>1</td>\n",
              "      <td>0</td>\n",
              "      <td>0</td>\n",
              "      <td>0</td>\n",
              "      <td>0</td>\n",
              "      <td>0</td>\n",
              "      <td>0</td>\n",
              "      <td>0</td>\n",
              "      <td>0</td>\n",
              "      <td>0</td>\n",
              "      <td>0</td>\n",
              "      <td>0</td>\n",
              "      <td>0</td>\n",
              "      <td>0</td>\n",
              "      <td>0</td>\n",
              "      <td>0</td>\n",
              "      <td>0</td>\n",
              "      <td>1</td>\n",
              "      <td>0</td>\n",
              "      <td>0</td>\n",
              "      <td>0</td>\n",
              "      <td>0</td>\n",
              "      <td>0</td>\n",
              "      <td>0</td>\n",
              "      <td>0</td>\n",
              "      <td>0</td>\n",
              "      <td>0</td>\n",
              "      <td>0</td>\n",
              "      <td>0</td>\n",
              "      <td>0</td>\n",
              "      <td>0</td>\n",
              "      <td>0</td>\n",
              "      <td>0</td>\n",
              "      <td>0</td>\n",
              "    </tr>\n",
              "    <tr>\n",
              "      <th>3</th>\n",
              "      <td>74211</td>\n",
              "      <td>0</td>\n",
              "      <td>0</td>\n",
              "      <td>0.042553</td>\n",
              "      <td>-0.233046</td>\n",
              "      <td>0.0</td>\n",
              "      <td>1</td>\n",
              "      <td>0</td>\n",
              "      <td>0</td>\n",
              "      <td>1</td>\n",
              "      <td>0</td>\n",
              "      <td>0</td>\n",
              "      <td>0</td>\n",
              "      <td>1</td>\n",
              "      <td>0</td>\n",
              "      <td>0</td>\n",
              "      <td>0</td>\n",
              "      <td>0</td>\n",
              "      <td>0</td>\n",
              "      <td>0</td>\n",
              "      <td>0</td>\n",
              "      <td>0</td>\n",
              "      <td>0</td>\n",
              "      <td>0</td>\n",
              "      <td>0</td>\n",
              "      <td>0</td>\n",
              "      <td>0</td>\n",
              "      <td>0</td>\n",
              "      <td>0</td>\n",
              "      <td>0</td>\n",
              "      <td>0</td>\n",
              "      <td>0</td>\n",
              "      <td>0</td>\n",
              "      <td>0</td>\n",
              "      <td>0</td>\n",
              "      <td>0</td>\n",
              "      <td>0</td>\n",
              "      <td>0</td>\n",
              "      <td>0</td>\n",
              "      <td>0</td>\n",
              "      <td>0</td>\n",
              "      <td>1</td>\n",
              "      <td>0</td>\n",
              "      <td>0</td>\n",
              "      <td>0</td>\n",
              "      <td>0</td>\n",
              "      <td>0</td>\n",
              "      <td>0</td>\n",
              "      <td>0</td>\n",
              "      <td>0</td>\n",
              "      <td>0</td>\n",
              "      <td>0</td>\n",
              "      <td>0</td>\n",
              "      <td>0</td>\n",
              "      <td>0</td>\n",
              "      <td>0</td>\n",
              "      <td>0</td>\n",
              "      <td>0</td>\n",
              "      <td>0</td>\n",
              "      <td>0</td>\n",
              "      <td>0</td>\n",
              "      <td>0</td>\n",
              "      <td>0</td>\n",
              "      <td>0</td>\n",
              "      <td>0</td>\n",
              "      <td>0</td>\n",
              "      <td>0</td>\n",
              "      <td>1</td>\n",
              "      <td>0</td>\n",
              "      <td>0</td>\n",
              "    </tr>\n",
              "    <tr>\n",
              "      <th>4</th>\n",
              "      <td>28288</td>\n",
              "      <td>1</td>\n",
              "      <td>0</td>\n",
              "      <td>-0.172426</td>\n",
              "      <td>-0.189655</td>\n",
              "      <td>1000.0</td>\n",
              "      <td>1</td>\n",
              "      <td>0</td>\n",
              "      <td>0</td>\n",
              "      <td>1</td>\n",
              "      <td>0</td>\n",
              "      <td>0</td>\n",
              "      <td>0</td>\n",
              "      <td>1</td>\n",
              "      <td>0</td>\n",
              "      <td>0</td>\n",
              "      <td>0</td>\n",
              "      <td>0</td>\n",
              "      <td>0</td>\n",
              "      <td>0</td>\n",
              "      <td>0</td>\n",
              "      <td>0</td>\n",
              "      <td>0</td>\n",
              "      <td>0</td>\n",
              "      <td>0</td>\n",
              "      <td>0</td>\n",
              "      <td>0</td>\n",
              "      <td>0</td>\n",
              "      <td>0</td>\n",
              "      <td>0</td>\n",
              "      <td>0</td>\n",
              "      <td>0</td>\n",
              "      <td>0</td>\n",
              "      <td>0</td>\n",
              "      <td>0</td>\n",
              "      <td>0</td>\n",
              "      <td>1</td>\n",
              "      <td>0</td>\n",
              "      <td>0</td>\n",
              "      <td>0</td>\n",
              "      <td>0</td>\n",
              "      <td>0</td>\n",
              "      <td>0</td>\n",
              "      <td>0</td>\n",
              "      <td>0</td>\n",
              "      <td>0</td>\n",
              "      <td>0</td>\n",
              "      <td>0</td>\n",
              "      <td>0</td>\n",
              "      <td>0</td>\n",
              "      <td>0</td>\n",
              "      <td>0</td>\n",
              "      <td>0</td>\n",
              "      <td>0</td>\n",
              "      <td>0</td>\n",
              "      <td>0</td>\n",
              "      <td>0</td>\n",
              "      <td>0</td>\n",
              "      <td>0</td>\n",
              "      <td>0</td>\n",
              "      <td>0</td>\n",
              "      <td>0</td>\n",
              "      <td>0</td>\n",
              "      <td>0</td>\n",
              "      <td>0</td>\n",
              "      <td>0</td>\n",
              "      <td>0</td>\n",
              "      <td>1</td>\n",
              "      <td>0</td>\n",
              "      <td>0</td>\n",
              "    </tr>\n",
              "  </tbody>\n",
              "</table>\n",
              "</div>"
            ],
            "text/plain": [
              "   licenseno  result  property_id  ...  Multi  Other  VacLd\n",
              "0      74211       1            0  ...      0      0      0\n",
              "1      28288       0            0  ...      0      0      0\n",
              "2      28288       0            0  ...      0      0      0\n",
              "3      74211       0            0  ...      1      0      0\n",
              "4      28288       1            0  ...      1      0      0\n",
              "\n",
              "[5 rows x 70 columns]"
            ]
          },
          "metadata": {
            "tags": []
          },
          "execution_count": 69
        }
      ]
    },
    {
      "cell_type": "code",
      "metadata": {
        "id": "kt5tGlKozQxZ"
      },
      "source": [
        "from sklearn.preprocessing import RobustScaler\n",
        "#### scaling sq_feet, since it wasn't scaled prior\n",
        "scaler = RobustScaler()\n",
        "scaled_sq_feet = scaler.fit_transform(sample_df.sq_feet.values.reshape(-1,1))\n",
        "sample_df[\"sq_feet\"] = scaled_sq_feet"
      ],
      "execution_count": null,
      "outputs": []
    },
    {
      "cell_type": "code",
      "metadata": {
        "id": "iHkgPhY0zQxZ"
      },
      "source": [
        "#sample_df.columns"
      ],
      "execution_count": null,
      "outputs": []
    },
    {
      "cell_type": "code",
      "metadata": {
        "id": "TwjjGt2mzQxa"
      },
      "source": [
        "#### Models\n",
        "from sklearn.ensemble import RandomForestClassifier\n",
        "from sklearn.linear_model import LogisticRegression\n",
        "from sklearn.neighbors import KNeighborsClassifier\n",
        "from sklearn.svm import LinearSVC\n",
        "from xgboost import XGBClassifier"
      ],
      "execution_count": null,
      "outputs": []
    },
    {
      "cell_type": "code",
      "metadata": {
        "colab": {
          "base_uri": "https://localhost:8080/",
          "height": 213
        },
        "id": "zGQu4Ji0zQxa",
        "outputId": "16334e7a-e888-40b0-a6ef-1965effbc96c"
      },
      "source": [
        "sample_df.head(3)"
      ],
      "execution_count": null,
      "outputs": [
        {
          "output_type": "execute_result",
          "data": {
            "text/html": [
              "<div>\n",
              "<style scoped>\n",
              "    .dataframe tbody tr th:only-of-type {\n",
              "        vertical-align: middle;\n",
              "    }\n",
              "\n",
              "    .dataframe tbody tr th {\n",
              "        vertical-align: top;\n",
              "    }\n",
              "\n",
              "    .dataframe thead th {\n",
              "        text-align: right;\n",
              "    }\n",
              "</style>\n",
              "<table border=\"1\" class=\"dataframe\">\n",
              "  <thead>\n",
              "    <tr style=\"text-align: right;\">\n",
              "      <th></th>\n",
              "      <th>licenseno</th>\n",
              "      <th>result</th>\n",
              "      <th>property_id</th>\n",
              "      <th>declared_valuation</th>\n",
              "      <th>total_fees</th>\n",
              "      <th>sq_feet</th>\n",
              "      <th>Active</th>\n",
              "      <th>Deleted</th>\n",
              "      <th>Inactive</th>\n",
              "      <th>Eating &amp; Drinking</th>\n",
              "      <th>Eating &amp; Drinking w/ Take Out</th>\n",
              "      <th>Mobile Food Walk On</th>\n",
              "      <th>Retail Food</th>\n",
              "      <th>FS</th>\n",
              "      <th>FT</th>\n",
              "      <th>MFW</th>\n",
              "      <th>RF</th>\n",
              "      <th>2108</th>\n",
              "      <th>2109</th>\n",
              "      <th>2110</th>\n",
              "      <th>2111</th>\n",
              "      <th>2113</th>\n",
              "      <th>2114</th>\n",
              "      <th>2115</th>\n",
              "      <th>2116</th>\n",
              "      <th>2117</th>\n",
              "      <th>2118</th>\n",
              "      <th>2119</th>\n",
              "      <th>2120</th>\n",
              "      <th>2121</th>\n",
              "      <th>2122</th>\n",
              "      <th>2124</th>\n",
              "      <th>2125</th>\n",
              "      <th>2126</th>\n",
              "      <th>2127</th>\n",
              "      <th>2128</th>\n",
              "      <th>2129</th>\n",
              "      <th>2130</th>\n",
              "      <th>2131</th>\n",
              "      <th>2132</th>\n",
              "      <th>2134</th>\n",
              "      <th>2135</th>\n",
              "      <th>2136</th>\n",
              "      <th>2140</th>\n",
              "      <th>2163</th>\n",
              "      <th>2199</th>\n",
              "      <th>2201</th>\n",
              "      <th>2203</th>\n",
              "      <th>2210</th>\n",
              "      <th>2215</th>\n",
              "      <th>2315</th>\n",
              "      <th>2467</th>\n",
              "      <th>1-2FAM</th>\n",
              "      <th>1-3FAM</th>\n",
              "      <th>1-4FAM</th>\n",
              "      <th>1-7FAM</th>\n",
              "      <th>1Unit</th>\n",
              "      <th>2unit</th>\n",
              "      <th>3unit</th>\n",
              "      <th>4unit</th>\n",
              "      <th>5unit</th>\n",
              "      <th>6unit</th>\n",
              "      <th>7More</th>\n",
              "      <th>7unit</th>\n",
              "      <th>COMM</th>\n",
              "      <th>Comm</th>\n",
              "      <th>Mixed</th>\n",
              "      <th>Multi</th>\n",
              "      <th>Other</th>\n",
              "      <th>VacLd</th>\n",
              "    </tr>\n",
              "  </thead>\n",
              "  <tbody>\n",
              "    <tr>\n",
              "      <th>0</th>\n",
              "      <td>74211</td>\n",
              "      <td>1</td>\n",
              "      <td>0</td>\n",
              "      <td>2.340426</td>\n",
              "      <td>-0.114943</td>\n",
              "      <td>0.0</td>\n",
              "      <td>1</td>\n",
              "      <td>0</td>\n",
              "      <td>0</td>\n",
              "      <td>1</td>\n",
              "      <td>0</td>\n",
              "      <td>0</td>\n",
              "      <td>0</td>\n",
              "      <td>1</td>\n",
              "      <td>0</td>\n",
              "      <td>0</td>\n",
              "      <td>0</td>\n",
              "      <td>0</td>\n",
              "      <td>0</td>\n",
              "      <td>0</td>\n",
              "      <td>0</td>\n",
              "      <td>0</td>\n",
              "      <td>0</td>\n",
              "      <td>0</td>\n",
              "      <td>0</td>\n",
              "      <td>0</td>\n",
              "      <td>0</td>\n",
              "      <td>0</td>\n",
              "      <td>0</td>\n",
              "      <td>0</td>\n",
              "      <td>0</td>\n",
              "      <td>0</td>\n",
              "      <td>0</td>\n",
              "      <td>0</td>\n",
              "      <td>0</td>\n",
              "      <td>0</td>\n",
              "      <td>0</td>\n",
              "      <td>0</td>\n",
              "      <td>0</td>\n",
              "      <td>0</td>\n",
              "      <td>0</td>\n",
              "      <td>1</td>\n",
              "      <td>0</td>\n",
              "      <td>0</td>\n",
              "      <td>0</td>\n",
              "      <td>0</td>\n",
              "      <td>0</td>\n",
              "      <td>0</td>\n",
              "      <td>0</td>\n",
              "      <td>0</td>\n",
              "      <td>0</td>\n",
              "      <td>0</td>\n",
              "      <td>0</td>\n",
              "      <td>0</td>\n",
              "      <td>0</td>\n",
              "      <td>0</td>\n",
              "      <td>0</td>\n",
              "      <td>0</td>\n",
              "      <td>0</td>\n",
              "      <td>0</td>\n",
              "      <td>0</td>\n",
              "      <td>0</td>\n",
              "      <td>0</td>\n",
              "      <td>0</td>\n",
              "      <td>0</td>\n",
              "      <td>1</td>\n",
              "      <td>0</td>\n",
              "      <td>0</td>\n",
              "      <td>0</td>\n",
              "      <td>0</td>\n",
              "    </tr>\n",
              "    <tr>\n",
              "      <th>1</th>\n",
              "      <td>28288</td>\n",
              "      <td>0</td>\n",
              "      <td>0</td>\n",
              "      <td>0.042553</td>\n",
              "      <td>0.114943</td>\n",
              "      <td>0.0</td>\n",
              "      <td>1</td>\n",
              "      <td>0</td>\n",
              "      <td>0</td>\n",
              "      <td>1</td>\n",
              "      <td>0</td>\n",
              "      <td>0</td>\n",
              "      <td>0</td>\n",
              "      <td>1</td>\n",
              "      <td>0</td>\n",
              "      <td>0</td>\n",
              "      <td>0</td>\n",
              "      <td>0</td>\n",
              "      <td>0</td>\n",
              "      <td>0</td>\n",
              "      <td>0</td>\n",
              "      <td>0</td>\n",
              "      <td>0</td>\n",
              "      <td>0</td>\n",
              "      <td>0</td>\n",
              "      <td>0</td>\n",
              "      <td>0</td>\n",
              "      <td>0</td>\n",
              "      <td>0</td>\n",
              "      <td>0</td>\n",
              "      <td>0</td>\n",
              "      <td>0</td>\n",
              "      <td>0</td>\n",
              "      <td>0</td>\n",
              "      <td>0</td>\n",
              "      <td>0</td>\n",
              "      <td>1</td>\n",
              "      <td>0</td>\n",
              "      <td>0</td>\n",
              "      <td>0</td>\n",
              "      <td>0</td>\n",
              "      <td>0</td>\n",
              "      <td>0</td>\n",
              "      <td>0</td>\n",
              "      <td>0</td>\n",
              "      <td>0</td>\n",
              "      <td>0</td>\n",
              "      <td>0</td>\n",
              "      <td>0</td>\n",
              "      <td>0</td>\n",
              "      <td>0</td>\n",
              "      <td>0</td>\n",
              "      <td>0</td>\n",
              "      <td>0</td>\n",
              "      <td>0</td>\n",
              "      <td>0</td>\n",
              "      <td>0</td>\n",
              "      <td>0</td>\n",
              "      <td>0</td>\n",
              "      <td>0</td>\n",
              "      <td>0</td>\n",
              "      <td>0</td>\n",
              "      <td>0</td>\n",
              "      <td>0</td>\n",
              "      <td>0</td>\n",
              "      <td>1</td>\n",
              "      <td>0</td>\n",
              "      <td>0</td>\n",
              "      <td>0</td>\n",
              "      <td>0</td>\n",
              "    </tr>\n",
              "    <tr>\n",
              "      <th>2</th>\n",
              "      <td>28288</td>\n",
              "      <td>0</td>\n",
              "      <td>0</td>\n",
              "      <td>0.638298</td>\n",
              "      <td>0.114943</td>\n",
              "      <td>3000.0</td>\n",
              "      <td>1</td>\n",
              "      <td>0</td>\n",
              "      <td>0</td>\n",
              "      <td>1</td>\n",
              "      <td>0</td>\n",
              "      <td>0</td>\n",
              "      <td>0</td>\n",
              "      <td>1</td>\n",
              "      <td>0</td>\n",
              "      <td>0</td>\n",
              "      <td>0</td>\n",
              "      <td>0</td>\n",
              "      <td>0</td>\n",
              "      <td>0</td>\n",
              "      <td>0</td>\n",
              "      <td>0</td>\n",
              "      <td>0</td>\n",
              "      <td>0</td>\n",
              "      <td>0</td>\n",
              "      <td>0</td>\n",
              "      <td>0</td>\n",
              "      <td>0</td>\n",
              "      <td>0</td>\n",
              "      <td>0</td>\n",
              "      <td>0</td>\n",
              "      <td>0</td>\n",
              "      <td>0</td>\n",
              "      <td>0</td>\n",
              "      <td>0</td>\n",
              "      <td>0</td>\n",
              "      <td>1</td>\n",
              "      <td>0</td>\n",
              "      <td>0</td>\n",
              "      <td>0</td>\n",
              "      <td>0</td>\n",
              "      <td>0</td>\n",
              "      <td>0</td>\n",
              "      <td>0</td>\n",
              "      <td>0</td>\n",
              "      <td>0</td>\n",
              "      <td>0</td>\n",
              "      <td>0</td>\n",
              "      <td>0</td>\n",
              "      <td>0</td>\n",
              "      <td>0</td>\n",
              "      <td>0</td>\n",
              "      <td>0</td>\n",
              "      <td>1</td>\n",
              "      <td>0</td>\n",
              "      <td>0</td>\n",
              "      <td>0</td>\n",
              "      <td>0</td>\n",
              "      <td>0</td>\n",
              "      <td>0</td>\n",
              "      <td>0</td>\n",
              "      <td>0</td>\n",
              "      <td>0</td>\n",
              "      <td>0</td>\n",
              "      <td>0</td>\n",
              "      <td>0</td>\n",
              "      <td>0</td>\n",
              "      <td>0</td>\n",
              "      <td>0</td>\n",
              "      <td>0</td>\n",
              "    </tr>\n",
              "  </tbody>\n",
              "</table>\n",
              "</div>"
            ],
            "text/plain": [
              "   licenseno  result  property_id  ...  Multi  Other  VacLd\n",
              "0      74211       1            0  ...      0      0      0\n",
              "1      28288       0            0  ...      0      0      0\n",
              "2      28288       0            0  ...      0      0      0\n",
              "\n",
              "[3 rows x 70 columns]"
            ]
          },
          "metadata": {
            "tags": []
          },
          "execution_count": 73
        }
      ]
    },
    {
      "cell_type": "code",
      "metadata": {
        "id": "q6dyuosQzQxa"
      },
      "source": [
        "#### Setup data for model training\n",
        "from sklearn.model_selection import train_test_split\n",
        "\n",
        "X = sample_df.loc[:, [i for i in sample_df.columns if i != \"result\"]]\n",
        "y = sample_df.loc[:, \"result\"].values.reshape(-1,1)\n",
        "X_train, X_test, y_train, y_test = train_test_split(X, y, test_size=.20, stratify=y)"
      ],
      "execution_count": null,
      "outputs": []
    },
    {
      "cell_type": "markdown",
      "metadata": {
        "id": "ozbSvWEizQxa"
      },
      "source": [
        "# Dummy Classifier Baseline\n",
        "We run a dummy classifier under various strategies to see how generic heuristics / rules perform and to establish a baseline for how much room for improvement there might exist with machine learning approaches.\n",
        "\n",
        "- uniform: 0.4962\n",
        "- stratified: 0.5033\n",
        "- most_frequent: 0.5113\n",
        "- prior: 0.5113"
      ]
    },
    {
      "cell_type": "code",
      "metadata": {
        "colab": {
          "base_uri": "https://localhost:8080/"
        },
        "id": "w2PE6aVMzQxa",
        "outputId": "6bdf9806-0cae-460b-be4f-b01f8bfb653a"
      },
      "source": [
        "from sklearn.dummy import DummyClassifier\n",
        "from sklearn.metrics import accuracy_score\n",
        "\n",
        "#### set baseline via dummy classifier performance under varied strategies\n",
        "dummy_strats = [\"uniform\", \"stratified\", \"most_frequent\"]\n",
        "for strat in dummy_strats:\n",
        "    dummy_clf = DummyClassifier(strategy=strat).fit(X_train, y_train.ravel())\n",
        "    print(f\"{strat}: {round(dummy_clf.score(X_test, y_test.ravel()),4)}\")"
      ],
      "execution_count": null,
      "outputs": [
        {
          "output_type": "stream",
          "text": [
            "uniform: 0.4945\n",
            "stratified: 0.5007\n",
            "most_frequent: 0.5113\n"
          ],
          "name": "stdout"
        }
      ]
    },
    {
      "cell_type": "markdown",
      "metadata": {
        "id": "R-JkPNuU7rH8"
      },
      "source": [
        "# Vanilla ML Models\n",
        "Creating vanilla ML Models (default hyperparameters) to gauge performance on our data. There was also no additional pre-processing necessary for our data other than scaling and a stratified test-train split.\n",
        "\n",
        "Vanilla ML model accuracy:\n",
        "\n",
        "- Logistic Regression: 0.4906\n",
        "- Linear SVC: 0.5103\n",
        "- K-Nearest Neighbors: 0.5668\n",
        "- Random Forest: 0.546\n",
        "- XGBoost Classifier: 0.5765"
      ]
    },
    {
      "cell_type": "code",
      "metadata": {
        "id": "RqNe3BIS0FIO"
      },
      "source": [
        "import warnings\n",
        "warnings.filterwarnings('ignore')"
      ],
      "execution_count": null,
      "outputs": []
    },
    {
      "cell_type": "code",
      "metadata": {
        "colab": {
          "base_uri": "https://localhost:8080/"
        },
        "id": "657Mu1BkyhXw",
        "outputId": "61600b73-813c-4594-c33f-d141986fc4ea"
      },
      "source": [
        "#### Testing base accuracy for models under default params and no PCA\n",
        "vanilla_models = {\n",
        "    'logisticRegressor': LogisticRegression(),\n",
        "    'linearSVC': LinearSVC(),\n",
        "    'KNearest': KNeighborsClassifier(),\n",
        "    'RandForest': RandomForestClassifier(),\n",
        "    'XGBoost': XGBClassifier()\n",
        "    }\n",
        "\n",
        "for i in vanilla_models.items():\n",
        "    clf = i[1].fit(X_train, y_train.ravel())\n",
        "    print(f\"{i[0]}: {round(clf.score(X_test, y_test.ravel()),6)}\")"
      ],
      "execution_count": null,
      "outputs": [
        {
          "output_type": "stream",
          "text": [
            "logisticRegressor: 0.498518\n",
            "linearSVC: 0.490614\n",
            "KNearest: 0.563179\n",
            "RandForest: 0.5477\n",
            "XGBoost: 0.57284\n"
          ],
          "name": "stdout"
        }
      ]
    },
    {
      "cell_type": "markdown",
      "metadata": {
        "id": "uqQVeNexzQxa"
      },
      "source": [
        "# Principal Component Analysis (PCA)\n",
        "We chose to use principal component analysis to explore to what extent usage of principal components could be effective at improving the performance of our models, both in terms of accuracy and runtime, especially given our having sixty-nine non-label features being included in our data."
      ]
    },
    {
      "cell_type": "markdown",
      "metadata": {
        "id": "87L20FUexzhC"
      },
      "source": [
        "## Testing Models @N Principal Components"
      ]
    },
    {
      "cell_type": "code",
      "metadata": {
        "colab": {
          "base_uri": "https://localhost:8080/"
        },
        "id": "1XI8tTkL2Cuk",
        "outputId": "b34a6b81-c9e4-461e-aeb5-8277a981a91b"
      },
      "source": [
        "#### Principal Component Analysis (PCA)\n",
        "from sklearn.decomposition import PCA\n",
        "\n",
        "N = 3\n",
        "pca = PCA(n_components=N)\n",
        "X_train_pca = pca.fit_transform(X_train)\n",
        "X_test_pca = pca.transform(X_test)\n",
        "# pca.explained_variance_\n",
        "\n",
        "#### Testing base accuracy for models under default params and no PCA\n",
        "vanilla_models_PCA = {\n",
        "    'logisticRegressor': LogisticRegression(),\n",
        "    'linearSVC': LinearSVC(),\n",
        "    'KNearest': KNeighborsClassifier(),\n",
        "    'RandForest': RandomForestClassifier(),\n",
        "    'XGBoost': XGBClassifier()\n",
        "    }\n",
        "\n",
        "print(f\"Vanilla Models under PCA [{N} Components]\")\n",
        "for i in vanilla_models_PCA.items():\n",
        "    clf = i[1].fit(X_train_pca, y_train.ravel())\n",
        "    print(f\"\\t{i[0]}: {round(clf.score(X_test_pca, y_test.ravel()),6)}\")"
      ],
      "execution_count": null,
      "outputs": [
        {
          "output_type": "stream",
          "text": [
            "Vanilla Models under PCA [3 Components]\n",
            "\tlogisticRegressor: 0.525854\n",
            "\tlinearSVC: 0.524317\n",
            "\tKNearest: 0.561313\n",
            "\tRandForest: 0.586453\n",
            "\tXGBoost: 0.580744\n"
          ],
          "name": "stdout"
        }
      ]
    },
    {
      "cell_type": "markdown",
      "metadata": {
        "id": "ndVE9pXJzQxb"
      },
      "source": [
        "## Variable number of PCA components\n",
        "It seems that the best performance comes from KNN and RF at 3 components and, secondarily, KNN/XGB at 6. KNN has marginal enough improvement at 6 versus 3 that it seems to be equivalent or noise-differentiated rather than meaningful difference, but XGB is a full percent lower at 6 component than KNN and RF appear to be at 3 components, so focus falls on three component configuration."
      ]
    },
    {
      "cell_type": "code",
      "metadata": {
        "id": "8389G3G4zQxb"
      },
      "source": [
        "#### Principal Component Analysis (PCA)\n",
        "pca_scores = {}\n",
        "\n",
        "#### Best seems to be KNN/RF at 3\n",
        "#### Second best seems to be KNN/XGB at 6\n",
        "for i in range(1, 10):\n",
        "    pca = PCA(n_components=i)\n",
        "\n",
        "    X_train_pca = pca.fit_transform(X_train)\n",
        "    X_test_pca = pca.transform(X_test)\n",
        "    # pca.explained_variance_\n",
        "    \n",
        "    #c = XGBClassifier()\n",
        "    #c = KNeighborsClassifier()\n",
        "    c = RandomForestClassifier()\n",
        "    c.fit(X_train_pca, y_train.ravel())\n",
        "    \n",
        "    pca_scores[i] = c.score(X_test_pca, y_test.ravel())\n",
        "    "
      ],
      "execution_count": null,
      "outputs": []
    },
    {
      "cell_type": "code",
      "metadata": {
        "id": "aTbSfdKszQxb",
        "colab": {
          "base_uri": "https://localhost:8080/"
        },
        "outputId": "2b4f9332-2289-4a22-fd43-401d35a5a8ba"
      },
      "source": [
        "pca_scores"
      ],
      "execution_count": null,
      "outputs": [
        {
          "output_type": "execute_result",
          "data": {
            "text/plain": [
              "{1: 0.5831595125699858,\n",
              " 2: 0.5855747063343946,\n",
              " 3: 0.5864529586123614,\n",
              " 4: 0.5528598089801295,\n",
              " 5: 0.561642331759798,\n",
              " 6: 0.569217257657262,\n",
              " 7: 0.5695466022614997,\n",
              " 8: 0.5731693929081129,\n",
              " 9: 0.5707541991437041}"
            ]
          },
          "metadata": {
            "tags": []
          },
          "execution_count": 17
        }
      ]
    },
    {
      "cell_type": "markdown",
      "metadata": {
        "id": "fpduIdTkzQxb"
      },
      "source": [
        "# GridSearch Parameter Tuning\n",
        "We are taking the best-performing models thusfar and checking to see if, with and without principal components, we are able to \"squeeze out\" any further performance."
      ]
    },
    {
      "cell_type": "code",
      "metadata": {
        "id": "sCFocfHW-2dq"
      },
      "source": [
        "from sklearn.model_selection import train_test_split, GridSearchCV\n",
        "\n",
        "#### Setup Proper PCA Count\n",
        "N = 3\n",
        "\n",
        "if(N==0):\n",
        "    print(\"PCA Set to Zero, Default Data Being Used\")\n",
        "    X_train_pca = X_train\n",
        "    X_test_pca = X_test\n",
        "else:\n",
        "    pca = PCA(n_components=N)\n",
        "    X_train_pca = pca.fit_transform(X_train)\n",
        "    X_test_pca = pca.transform(X_test)"
      ],
      "execution_count": null,
      "outputs": []
    },
    {
      "cell_type": "markdown",
      "metadata": {
        "id": "37nRVU27BGmN"
      },
      "source": [
        "## K-Nearest Neighbors Grid Search Tuning\n",
        "NonPCA: acc=0.5719 for <code>{'algorithm': 'kd_tree', 'n_neighbors': 100, 'weights': 'uniform'}</code><br/>\n",
        "PCA@3: acc=0.5761 for <code>{'algorithm': 'kd_tree', 'n_neighbors': 100, 'weights': 'uniform'}</code><br/>\n",
        "Alright then, seems the verdict is that the same parameters hold with or without PCA at 3 components."
      ]
    },
    {
      "cell_type": "code",
      "metadata": {
        "id": "ylP50ZXqzQxb",
        "colab": {
          "base_uri": "https://localhost:8080/"
        },
        "outputId": "32a5af86-1360-4056-effa-d5e5f3647589"
      },
      "source": [
        "#### KNeighbors Parameter Tuning\n",
        "# Best at PCA = 3\n",
        "clf_knn = KNeighborsClassifier()\n",
        "param_grid = {\n",
        "    'n_neighbors': [5, 50, 100, 150],\n",
        "    'weights': [\"uniform\", \"distance\"],\n",
        "    'algorithm': [\"ball_tree\", \"kd_tree\"]\n",
        "    }\n",
        "\n",
        "cv_knn = GridSearchCV(clf_knn, param_grid, scoring=\"accuracy\")\n",
        "cv_knn.fit(X_train_pca, y_train.ravel())\n",
        "print(f\"Given {N} principal components\")\n",
        "print(f\"Grid-Best Score: {round(cv_knn.best_score_,4)}\")\n",
        "print(f\"Grid-Best Parameters: {cv_knn.best_params_}\")\n",
        "\n",
        "#### Pass best parameters to a classifier and check score\n",
        "tuned_KNN = KNeighborsClassifier(**cv_knn.best_params_)\n",
        "tuned_KNN.fit(X_train_pca, y_train.ravel())\n",
        "print(tuned_KNN.score(X_test_pca, y_test.ravel()))"
      ],
      "execution_count": null,
      "outputs": [
        {
          "output_type": "stream",
          "text": [
            "Given 0 principal components\n",
            "Grid-Best Score: 0.5794\n",
            "Grid-Best Parameters: {'algorithm': 'kd_tree', 'n_neighbors': 100, 'weights': 'uniform'}\n"
          ],
          "name": "stdout"
        },
        {
          "output_type": "execute_result",
          "data": {
            "text/plain": [
              "0.5719617960259085"
            ]
          },
          "metadata": {
            "tags": []
          },
          "execution_count": 44
        }
      ]
    },
    {
      "cell_type": "markdown",
      "metadata": {
        "id": "4q-TB-aqBUG5"
      },
      "source": [
        "## Random Forest Grid Search Tuning\n",
        "NonPCA: <code>acc=0.5705</code> for <code>{'max_features': None, 'min_samples_split': 6, 'n_estimators': 200}</code><br/>\n",
        "PCA@3: <code>acc=0.5875</code> for <code>{'max_features': None, 'min_samples_split': 6, 'n_estimators': 200}</code><br/>\n",
        "This takes a solid 50 minutes running raw, 20 minutes running @PCA=3. That note aside, similar to KNN, same ideal parameter sets here and it seems like Random Forest with three principal components gives us our best performance."
      ]
    },
    {
      "cell_type": "code",
      "metadata": {
        "colab": {
          "base_uri": "https://localhost:8080/"
        },
        "id": "PL_8rsrHvKNO",
        "outputId": "b17db673-487b-488a-e29f-3f337e48a5ad"
      },
      "source": [
        "#### RandomForest Parameter Tuning\n",
        "# Best at PCA = 3\n",
        "from datetime import datetime\n",
        "start = datetime.now()\n",
        "\n",
        "clf_rf = RandomForestClassifier()\n",
        "param_grid = {\n",
        "    'n_estimators': [100, 200, 300],\n",
        "    'max_features': [\"auto\", \"log2\", None],\n",
        "    'min_samples_split': [2, 4, 6],\n",
        "    }\n",
        "\n",
        "cv_rf = GridSearchCV(clf_rf, param_grid, scoring=\"accuracy\")\n",
        "cv_rf.fit(X_train_pca, y_train.ravel())\n",
        "print(f\"Grid-Best Score: {round(cv_rf.best_score_,4)}\")\n",
        "print(f\"Grid-Best Parameters: {cv_rf.best_params_}\")\n",
        "\n",
        "#### Pass best parameters to a classifier and check score\n",
        "tuned_RF = RandomForestClassifier(**cv_rf.best_params_)\n",
        "tuned_RF.fit(X_train_pca, y_train.ravel())\n",
        "print(tuned_RF.score(X_test_pca, y_test.ravel()))\n",
        "\n",
        "stop = datetime.now()\n",
        "print(stop-start)"
      ],
      "execution_count": null,
      "outputs": [
        {
          "output_type": "stream",
          "text": [
            "Grid-Best Score: 0.5875\n",
            "Grid-Best Parameters: {'max_features': None, 'min_samples_split': 6, 'n_estimators': 200}\n",
            "0.5878801185640575\n",
            "0:20:10.049381\n"
          ],
          "name": "stdout"
        }
      ]
    },
    {
      "cell_type": "markdown",
      "metadata": {
        "id": "qSKMPgkHk8lF"
      },
      "source": [
        "## XGBoost Tuning\n",
        "Best Parameters: <code>colsample_bytree=0.5, learning_rate=0.01, max_depth=10, min_child_weight=5, n_estimators=400, objective=\"reg:squarederror\", subsample=0.7</code><br/><br/>\n",
        "Accuracy: a pretty stable 0.595 if you round to the third place, seems to be best-performing model, but needs to be run with six principal components."
      ]
    },
    {
      "cell_type": "code",
      "metadata": {
        "id": "staNEsiSjzFy"
      },
      "source": [
        "#### KNeighbors Parameter Tuning\n",
        "# Best at PCA = 6\n",
        "clf_xgb = XGBClassifier()\n",
        "param_grid = {\n",
        "    'learning_rate': [0.01, 0.1],\n",
        "    'max_depth': [3, 5, 7, 10],\n",
        "    'min_child_weight': [1, 3, 5],\n",
        "    'subsample': [0.5, 0.7],\n",
        "    'colsample_bytree': [0.5, 0.7],\n",
        "    'n_estimators' : [100, 200, 400],\n",
        "    'objective': ['reg:squarederror', 'binary:logistic']\n",
        "}   \n",
        "\n",
        "cv_xgb = GridSearchCV(clf_xgb, param_grid, scoring=\"accuracy\")\n",
        "cv_xgb.fit(X_train_pca, y_train.ravel())\n",
        "print(f\"Given {N} principal components\")\n",
        "print(f\"Grid-Best Score: {round(cv_xgb.best_score_,4)}\")\n",
        "print(f\"Grid-Best Parameters: {cv_xgb.best_params_}\")\n",
        "\n",
        "#### Pass best parameters to a classifier and check score\n",
        "tuned_KNN = KNeighborsClassifier(**cv_xgb.best_params_)\n",
        "tuned_KNN.fit(X_train_pca, y_train.ravel())\n",
        "print(tuned_KNN.score(X_test_pca, y_test.ravel()))"
      ],
      "execution_count": null,
      "outputs": []
    },
    {
      "cell_type": "markdown",
      "metadata": {
        "id": "g9rSGcBkloZ5"
      },
      "source": [
        "# Final Model\n",
        "Our final model is an XGBoost that takes in a six-principal-component tranform of the data and seems generally stable at achieving 60% accuracy or higher when trained on the larges (82mb) sample."
      ]
    },
    {
      "cell_type": "code",
      "metadata": {
        "colab": {
          "base_uri": "https://localhost:8080/"
        },
        "id": "hmDYKH3FlpYp",
        "outputId": "e3187bd4-da62-4666-a5dc-5508777927cf"
      },
      "source": [
        "pca = PCA(n_components=6)\n",
        "X_train_pca = pca.fit_transform(X_train)\n",
        "X_test_pca = pca.transform(X_test)\n",
        "clf_XGB = XGBClassifier(colsample_bytree=0.5, learning_rate=0.01, max_depth=10, min_child_weight=5,\n",
        "                       n_estimators=400, objective=\"reg:squarederror\", subsample=0.7)\n",
        "clf_XGB.fit(X_train_pca, y_train.ravel())\n",
        "clf_XGB.score(X_test_pca, y_test.ravel())"
      ],
      "execution_count": null,
      "outputs": [
        {
          "output_type": "execute_result",
          "data": {
            "text/plain": [
              "0.6063370771713712"
            ]
          },
          "metadata": {
            "tags": []
          },
          "execution_count": 86
        }
      ]
    },
    {
      "cell_type": "code",
      "metadata": {
        "colab": {
          "base_uri": "https://localhost:8080/"
        },
        "id": "mk10KxHql1ry",
        "outputId": "b5082e75-c464-4115-90db-5b0d9b679d67"
      },
      "source": [
        "important_feet = clf_XGB.feature_importances_\n",
        "print(important_feet)"
      ],
      "execution_count": null,
      "outputs": [
        {
          "output_type": "stream",
          "text": [
            "[0.16490306 0.29846537 0.30236718 0.05136454 0.05271646 0.13018347]\n"
          ],
          "name": "stdout"
        }
      ]
    },
    {
      "cell_type": "code",
      "metadata": {
        "colab": {
          "base_uri": "https://localhost:8080/",
          "height": 265
        },
        "id": "nT3KfEcavDXP",
        "outputId": "9898e205-6070-4bd3-8dbc-27566967d2ff"
      },
      "source": [
        "#### Let's see how important these components are\n",
        "from matplotlib import pyplot\n",
        "pyplot.bar([x for x in range(len(important_feet))], important_feet)\n",
        "pyplot.show()"
      ],
      "execution_count": null,
      "outputs": [
        {
          "output_type": "display_data",
          "data": {
            "image/png": "[encoded data removed]",
            "text/plain": [
              "<Figure size 432x288 with 1 Axes>"
            ]
          },
          "metadata": {
            "tags": [],
            "needs_background": "light"
          }
        }
      ]
    },
    {
      "cell_type": "code",
      "metadata": {
        "id": "0JjOGxDpwyaW"
      },
      "source": [
        ""
      ],
      "execution_count": null,
      "outputs": []
    }
  ]
}